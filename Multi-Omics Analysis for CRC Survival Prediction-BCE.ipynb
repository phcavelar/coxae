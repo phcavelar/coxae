{
 "cells": [
  {
   "cell_type": "markdown",
   "id": "bdcd2154",
   "metadata": {},
   "source": [
    "# Multi-Omics Analysis for LUSC Survival Prediction\n",
    "\n",
    "Bla\n",
    "\n"
   ]
  },
  {
   "cell_type": "code",
   "execution_count": null,
   "id": "fd39eea1",
   "metadata": {},
   "outputs": [],
   "source": []
  },
  {
   "cell_type": "markdown",
   "id": "7beb697f",
   "metadata": {},
   "source": [
    "## Imports and helper functions"
   ]
  },
  {
   "cell_type": "code",
   "execution_count": 1,
   "id": "9d474f26",
   "metadata": {},
   "outputs": [],
   "source": [
    "import os\n",
    "import shutil\n",
    "import io\n",
    "import glob\n",
    "import requests\n",
    "import json\n",
    "import tarfile\n",
    "import random\n",
    "import warnings\n",
    "import itertools\n",
    "import functools\n",
    "import re\n",
    "\n",
    "import numpy as np\n",
    "import pandas as pd\n",
    "import torch\n",
    "import torch.nn as nn\n",
    "import torch.nn.functional as F\n",
    "import matplotlib.pyplot as plt\n",
    "import seaborn as sns\n",
    "sns.set_theme(style=\"darkgrid\")\n",
    "import lifelines\n",
    "from tqdm.notebook import tqdm, trange\n",
    "\n",
    "import sklearn\n",
    "from sklearn.preprocessing import scale, minmax_scale, robust_scale\n",
    "from sklearn.decomposition import PCA\n",
    "from sklearn.manifold import TSNE\n",
    "from sklearn.cluster import KMeans\n",
    "from sklearn.metrics import silhouette_score, calinski_harabasz_score, classification_report\n",
    "from sklearn.feature_selection import SelectKBest, f_classif\n",
    "\n",
    "from pypgatk.cgenomes.cbioportal_downloader import CbioPortalDownloadService"
   ]
  },
  {
   "cell_type": "code",
   "execution_count": 2,
   "id": "3c164ec8",
   "metadata": {},
   "outputs": [],
   "source": [
    "# Set the random seeds\n",
    "seed = 0\n",
    "torch.random.manual_seed(seed)\n",
    "np.random.seed(seed)\n",
    "random.seed(seed)"
   ]
  },
  {
   "cell_type": "code",
   "execution_count": 3,
   "id": "956f45f7",
   "metadata": {},
   "outputs": [],
   "source": [
    "dim_reduction = TSNE\n",
    "dim_reduction_label = \"TSNE_{}\""
   ]
  },
  {
   "cell_type": "markdown",
   "id": "d9a0cfe4",
   "metadata": {},
   "source": [
    "### Data acquisition and reading"
   ]
  },
  {
   "cell_type": "code",
   "execution_count": 4,
   "id": "9b9b54e7",
   "metadata": {},
   "outputs": [],
   "source": [
    "def download_maui_data(\n",
    "        output_directory = \"./data/maui_data\",\n",
    "        **kwargs\n",
    "        ):\n",
    "    \n",
    "    os.makedirs(output_directory, exist_ok=True)\n",
    "\n",
    "    if not os.path.isfile(os.path.join(output_directory, 'cnv.csv')):\n",
    "        urllib.request.urlretrieve(\n",
    "            url='http://bimsbstatic.mdc-berlin.de/akalin/maui-data/coread_for_paper_cnv.csv',\n",
    "            filename=os.path.join(output_directory, 'cnv.csv')\n",
    "        )\n",
    "\n",
    "    if not os.path.isfile(os.path.join(output_directory, 'gex.csv')):\n",
    "        urllib.request.urlretrieve(\n",
    "            url='http://bimsbstatic.mdc-berlin.de/akalin/maui-data/coread_for_paper_gex.csv',\n",
    "            filename=os.path.join(output_directory, 'gex.csv')\n",
    "        )\n",
    "\n",
    "    if not os.path.isfile(os.path.join(output_directory, 'mut.csv')):\n",
    "        urllib.request.urlretrieve(\n",
    "            url='http://bimsbstatic.mdc-berlin.de/akalin/maui-data/coread_for_paper_mut.csv',\n",
    "            filename=os.path.join(output_directory, 'mut.csv')\n",
    "        )\n",
    "\n",
    "    if not os.path.isfile(os.path.join(output_directory, 'subtypes.csv')):\n",
    "        urllib.request.urlretrieve(\n",
    "            url='http://bimsbstatic.mdc-berlin.de/akalin/maui-data/coread_for_paper_subtypes.csv',\n",
    "            filename=os.path.join(output_directory, 'subtypes.csv')\n",
    "        )\n",
    "\n",
    "    if not os.path.isfile(os.path.join(output_directory, 'survival.csv')):\n",
    "        urllib.request.urlretrieve(\n",
    "            url='http://bimsbstatic.mdc-berlin.de/akalin/maui-data/coread_for_paper_survival.csv',\n",
    "            filename=os.path.join(output_directory, 'survival.csv')\n",
    "        )"
   ]
  },
  {
   "cell_type": "code",
   "execution_count": 5,
   "id": "d6d6c9e8",
   "metadata": {},
   "outputs": [],
   "source": [
    "def get_mirna_files(\n",
    "        project_id=\"TCGA-LUSC\",\n",
    "        maxfiles=10000,\n",
    "        cases_endpt = \"https://api.gdc.cancer.gov/files\",\n",
    "        data_endpt = \"https://api.gdc.cancer.gov/data\"\n",
    "        ):\n",
    "\n",
    "\n",
    "    # Retrieve associated file names\n",
    "    filters = {\n",
    "        \"op\": \"and\",\n",
    "        \"content\":[\n",
    "            {\"op\": \"=\",\n",
    "            \"content\":{\n",
    "                \"field\": \"cases.project.project_id\",\n",
    "                \"value\": [\"TCGA-LUSC\"]\n",
    "                }\n",
    "            },\n",
    "            {\"op\": \"=\",\n",
    "            \"content\":{\n",
    "                \"field\": \"files.experimental_strategy\",\n",
    "                \"value\": [\"miRNA-Seq\"]\n",
    "                }\n",
    "            },\n",
    "            {\"op\": \"=\",\n",
    "            \"content\":{\n",
    "                \"field\": \"files.data_category\",\n",
    "                \"value\": [\"Transcriptome Profiling\"]\n",
    "                }\n",
    "            },\n",
    "            {\"op\": \"=\",\n",
    "            \"content\":{\n",
    "                \"field\": \"files.data_type\",\n",
    "                \"value\": [\"miRNA Expression Quantification\"]\n",
    "                }\n",
    "            }\n",
    "        ]\n",
    "    }\n",
    "\n",
    "    params = {\n",
    "        \"filters\": json.dumps(filters),\n",
    "        \"fields\": \",\".join([\"cases.samples.submitter_id\",\"file_name\", \"Entity ID\"]),\n",
    "        \"format\": \"TSV\",\n",
    "        \"size\": str(maxfiles)\n",
    "    }\n",
    "\n",
    "    response = requests.get(cases_endpt, params = params)\n",
    "    files_df = pd.read_csv(io.StringIO(response.text), sep=\"\\t\")\n",
    "    return files_df\n",
    "\n",
    "def download_mirna_files(\n",
    "        files_df,\n",
    "        output_directory = \"./data\",\n",
    "        project_id=\"TCGA-LUSC\",\n",
    "        maxfiles=10000,\n",
    "        cases_endpt = \"https://api.gdc.cancer.gov/files\",\n",
    "        data_endpt = \"https://api.gdc.cancer.gov/data\"\n",
    "        ):\n",
    "    \n",
    "    params = {\"ids\": files_df[\"id\"].tolist()}\n",
    "\n",
    "    response = requests.post(data_endpt,\n",
    "                            data = json.dumps(params),\n",
    "                            headers={\n",
    "                                \"Content-Type\": \"application/json\"\n",
    "                                })\n",
    "\n",
    "    response_head_cd = response.headers[\"Content-Disposition\"]\n",
    "    file_name = re.findall(\"filename=(.+)\", response_head_cd)[0]\n",
    "    with open(os.path.join(output_directory, file_name), \"wb\") as output_file:\n",
    "        output_file.write(response.content)\n",
    "    return file_name"
   ]
  },
  {
   "cell_type": "code",
   "execution_count": 6,
   "id": "360aed6c",
   "metadata": {},
   "outputs": [],
   "source": [
    "def untar_and_merge_mirna_files(\n",
    "        files_df,\n",
    "        file_name,\n",
    "        output_directory = \"./data\",\n",
    "        cleanup=True\n",
    "        ):\n",
    "    untar_study(file_name, output_directory, fmt=\"\")\n",
    "    \n",
    "    miRNA_IDs = set()\n",
    "    patient_dfs = {}\n",
    "    patient_folders = []\n",
    "    for i in range(len(files_df)):\n",
    "        patient_id = files_df[\"cases.0.samples.0.submitter_id\"].iloc[i]\n",
    "        foldername = files_df[\"id\"].iloc[i]\n",
    "        patient_fname = os.listdir(os.path.join(output_directory, foldername))[0]\n",
    "        patient_df = pd.read_csv(os.path.join(output_directory, foldername, patient_fname), sep=\"\\t\")\n",
    "        \n",
    "        miRNA_IDs.update(patient_df[\"miRNA_ID\"].tolist())\n",
    "        patient_dfs[patient_id] = patient_df\n",
    "        patient_folders.append(foldername)\n",
    "    \n",
    "    miRNA_df = pd.DataFrame({\"patient_id\":[], **{k:[] for k in miRNA_IDs}}).set_index(\"patient_id\")\n",
    "    for patient_id in patient_dfs:\n",
    "        patient_df = patient_dfs[patient_id]\n",
    "        cbioportal_patient_id = patient_id[:-1] # This line is to match cBioPortal's format\n",
    "        transposed_patient_df = patient_df[[\"miRNA_ID\",\"reads_per_million_miRNA_mapped\"]].set_index(\"miRNA_ID\").transpose()\n",
    "        transposed_patient_df[\"patient_id\"] = [cbioportal_patient_id]\n",
    "        transposed_patient_df = transposed_patient_df.set_index(\"patient_id\")\n",
    "        miRNA_df.loc[cbioportal_patient_id,miRNA_df.columns] = transposed_patient_df[miRNA_df.columns].values.flatten()\n",
    "        \n",
    "    if cleanup:\n",
    "        for patient_folder in patient_folders:\n",
    "            shutil.rmtree(os.path.join(output_directory, patient_folder))\n",
    "    \n",
    "    return miRNA_df"
   ]
  },
  {
   "cell_type": "code",
   "execution_count": 7,
   "id": "87f4f0c8",
   "metadata": {},
   "outputs": [],
   "source": [
    "def remove_constant_columns(df):\n",
    "    columns_to_remove = get_constant_columns(df)\n",
    "    return df.drop(columns=columns_to_remove)\n",
    "\n",
    "def get_constant_columns(df):\n",
    "    columns_to_remove = []\n",
    "    for idx, column in enumerate(df.columns):\n",
    "        try:\n",
    "            if (df[column].std() == 0).any():\n",
    "                columns_to_remove.append(column)\n",
    "        except KeyError:\n",
    "            columns_to_remove.append(column)\n",
    "    return columns_to_remove\n",
    "\n",
    "def remove_columns_with_significant_modes(df, max_mode_pct=0.2):\n",
    "    columns_to_remove = get_columns_with_significant_modes(df, max_mode_pct=max_mode_pct)\n",
    "    return df.drop(columns=columns_to_remove)\n",
    "\n",
    "def get_columns_with_significant_modes(df, max_mode_pct=0.2):\n",
    "    columns_to_remove = []\n",
    "    for idx, column in enumerate(df.columns):\n",
    "        try:\n",
    "            if (df[column].value_counts(True) >= max_mode_pct).any():\n",
    "                columns_to_remove.append(column)\n",
    "        except KeyError:\n",
    "            columns_to_remove.append(column)\n",
    "    return columns_to_remove\n",
    "\n",
    "def remove_columns_with_duplicates(df, eps=1e-3, disable_tqdm=True):\n",
    "    columns_to_remove = get_columns_with_duplicates(df, eps=eps, disable_tqdm=disable_tqdm)\n",
    "    return df.drop(columns=columns_to_remove)\n",
    "\n",
    "def get_columns_with_duplicates(df, eps=1e-3, disable_tqdm=True, catch_keyboard_interrupt=True):\n",
    "    columns = df.columns\n",
    "    eps = 1e-3\n",
    "    columns_to_remove = set()\n",
    "    try:\n",
    "        for col1 in trange(len(columns), disable=disable_tqdm):\n",
    "            if col1 not in columns_to_remove:\n",
    "                for col2 in range(col1+1,len(columns)):\n",
    "                    if abs(df[columns[col1]] - df[columns[col2]]).sum() <= eps:\n",
    "                        columns_to_remove.add(col2)\n",
    "    except KeyboardInterrupt as e:\n",
    "        if not catch_keyboard_interrupt:\n",
    "            raise e\n",
    "    return [df.columns[c] for c in columns_to_remove]"
   ]
  },
  {
   "cell_type": "code",
   "execution_count": 8,
   "id": "709cb025",
   "metadata": {},
   "outputs": [],
   "source": [
    "def get_histograms_from_columns(\n",
    "        df, columns_to_plot,\n",
    "        sharex=False, sharey=False, figsize_per_plot=5,\n",
    "        bins=50, stat=\"density\", kde=True\n",
    "        ):\n",
    "    plot_number = len(columns_to_plot)\n",
    "    rows = max(1,int(plot_number**0.5))\n",
    "    cols = max(1,int(not plot_number%rows==0) + plot_number//rows)\n",
    "    fig, axs = plt.subplots(\n",
    "            rows, cols, sharex=sharex, sharey=sharey, squeeze=False,\n",
    "            figsize=(figsize_per_plot*cols,figsize_per_plot*rows))\n",
    "    color_palette = sns.husl_palette(plot_number)\n",
    "    for i, column in zip(range(plot_number),columns_to_plot):\n",
    "        row = i%rows\n",
    "        col = i//rows\n",
    "        sns.histplot(df[column], bins=bins, stat=stat, kde=kde, label=column, ax=axs[row,col], color=color_palette[i])\n",
    "    return fig, axs"
   ]
  },
  {
   "cell_type": "code",
   "execution_count": 9,
   "id": "d64cb3b9",
   "metadata": {},
   "outputs": [],
   "source": [
    "def maui_scale(df):\n",
    "    \"\"\"Scale and center data\n",
    "\n",
    "    Parameters\n",
    "    ----------\n",
    "    df:     pd.DataFrame (n_features, n_samples) non-scaled data\n",
    "\n",
    "    Returns\n",
    "    -------\n",
    "    scaled: pd.DataFrame (n_features, n_samples) scaled data\n",
    "    \"\"\"\n",
    "    df_scaled = scale(df.T)\n",
    "    return pd.DataFrame(df_scaled, columns=df.index, index=df.columns).T"
   ]
  },
  {
   "cell_type": "markdown",
   "id": "427ccd2a",
   "metadata": {},
   "source": [
    "### Autoencoder Model"
   ]
  },
  {
   "cell_type": "code",
   "execution_count": 10,
   "id": "bc20797f",
   "metadata": {},
   "outputs": [],
   "source": [
    "class MLP(nn.Module):\n",
    "    def __init__(\n",
    "            self,\n",
    "            input_dim,\n",
    "            hidden_dims,\n",
    "            output_dim,\n",
    "            nonlinearity,\n",
    "            dropout_rate=0.5,\n",
    "            bias=True\n",
    "            ):\n",
    "        super().__init__()\n",
    "        in_dims = [input_dim] + hidden_dims\n",
    "        out_dims = hidden_dims + [output_dim]\n",
    "        \n",
    "        self.layers = nn.ModuleList([nn.Linear(d_in, d_out, bias=bias) for d_in, d_out in zip(in_dims, out_dims)])\n",
    "        self.nonlinearity = nonlinearity\n",
    "        self.dropout = nn.Dropout(dropout_rate)\n",
    "    \n",
    "    def forward(self, x):\n",
    "        for layer in self.layers[:-1]:\n",
    "            x = self.dropout(self.nonlinearity(layer(x)))\n",
    "        return self.layers[-1](x)\n",
    "    \n",
    "    def layer_activations(self, x):\n",
    "        # To allow for activation normalisation\n",
    "        activations = [x]\n",
    "        for layer in self.layers[:-1]:\n",
    "            activations.append(self.dropout(self.nonlinearity(layer(activations[-1]))))\n",
    "        return activations[1:] + [self.layers[-1](activations[-1])]\n",
    "        \n",
    "        \n",
    "\n",
    "class Autoencoder(nn.Module):\n",
    "    def __init__(\n",
    "            self,\n",
    "            input_dim,\n",
    "            hidden_dims,\n",
    "            encoding_dim,\n",
    "            nonlinearity=F.relu,\n",
    "            final_nonlinearity=lambda x:x,\n",
    "            dropout_rate=0.5,\n",
    "            bias=True):\n",
    "        super().__init__()\n",
    "        try:\n",
    "            len(hidden_dims)\n",
    "        except TypeError:\n",
    "            hidden_dims = [hidden_dims]\n",
    "        \n",
    "        self.encoder = MLP(input_dim, hidden_dims, encoding_dim, nonlinearity, dropout_rate, bias)\n",
    "        self.decoder = MLP(encoding_dim, hidden_dims[-1::-1], input_dim, nonlinearity, dropout_rate, bias)\n",
    "        self.final_nonlinearity = final_nonlinearity\n",
    "    \n",
    "    def encode(self,x):\n",
    "        return self.encoder(x)\n",
    "    \n",
    "    def decode(self,x):\n",
    "        return self.final_nonlinearity(self.decoder(x))\n",
    "    \n",
    "    def forward(self, x):\n",
    "        return self.decode(self.encode(x))\n",
    "    \n",
    "    def layer_activations(self,x):\n",
    "        # To allow for activation normalisation\n",
    "        encoder_activations = self.encoder.layer_activations(x)\n",
    "        decoder_activations = self.decoder.layer_activations(encoder_activations[-1])\n",
    "        return encoder_activations + decoder_activations"
   ]
  },
  {
   "cell_type": "markdown",
   "id": "3104e554",
   "metadata": {},
   "source": [
    "### High/Low risk estimation "
   ]
  },
  {
   "cell_type": "code",
   "execution_count": 11,
   "id": "0927e55c",
   "metadata": {},
   "outputs": [],
   "source": [
    "def kmf_high_low(df_clin, subgroups):\n",
    "    \"\"\"\n",
    "    Gets the clinical dataset and subgroups (already aligned) and returns a\n",
    "    Kaplan Meier estimator and its respective samples for each of these groups\n",
    "    \"\"\"\n",
    "    target_features = df_clin.copy()\n",
    "    target_features[\"Risk_subgroup\"] = subgroups\n",
    "    samples_0 = target_features[target_features[\"Risk_subgroup\"]==0]\n",
    "    samples_1 = target_features[target_features[\"Risk_subgroup\"]==1]\n",
    "    kmf_0 = lifelines.KaplanMeierFitter(label=\"0\")\n",
    "    kmf_1 = lifelines.KaplanMeierFitter(label=\"1\")\n",
    "    kmf_0.fit(durations=samples_0[\"duration\"],\n",
    "              event_observed=samples_0[\"observed\"])\n",
    "    kmf_1.fit(durations=samples_1[\"duration\"],\n",
    "              event_observed=samples_1[\"observed\"])\n",
    "    timeline_95 = min(np.percentile(kmf_0.survival_function_.index, 95), np.percentile(kmf_1.survival_function_.index, 95))\n",
    "    pct_0 = np.percentile(kmf_0.survival_function_, 100*(1-timeline_95/max(kmf_0.survival_function_.index)))\n",
    "    pct_1 = np.percentile(kmf_1.survival_function_, 100*(1-timeline_95/max(kmf_1.survival_function_.index)))\n",
    "    if pct_0 > pct_1:\n",
    "        kmf_low, kmf_high = kmf_0, kmf_1\n",
    "        low_risk_samples, high_risk_samples = samples_0, samples_1\n",
    "    else:\n",
    "        kmf_low, kmf_high = kmf_1, kmf_0\n",
    "        low_risk_samples, high_risk_samples = samples_1, samples_0\n",
    "    kmf_low._label = \"low_risk_subgroup\"\n",
    "    kmf_high._label = \"high_risk_subgroup\"\n",
    "    return kmf_low, kmf_high, low_risk_samples, high_risk_samples"
   ]
  },
  {
   "cell_type": "markdown",
   "id": "034b47e0",
   "metadata": {},
   "source": [
    "## Data Acquisition and Pre-Processing"
   ]
  },
  {
   "cell_type": "markdown",
   "id": "ae9ea865",
   "metadata": {},
   "source": [
    "### Acquiring data from the MAUI's paper study"
   ]
  },
  {
   "cell_type": "code",
   "execution_count": 12,
   "id": "19c30701",
   "metadata": {},
   "outputs": [],
   "source": [
    "data_directory = \"./data/maui_data\""
   ]
  },
  {
   "cell_type": "code",
   "execution_count": 13,
   "id": "f6c5d84c",
   "metadata": {},
   "outputs": [],
   "source": [
    "download_maui_data(data_directory)"
   ]
  },
  {
   "cell_type": "code",
   "execution_count": 14,
   "id": "4b40c666",
   "metadata": {},
   "outputs": [
    {
     "data": {
      "text/html": [
       "<div>\n",
       "<style scoped>\n",
       "    .dataframe tbody tr th:only-of-type {\n",
       "        vertical-align: middle;\n",
       "    }\n",
       "\n",
       "    .dataframe tbody tr th {\n",
       "        vertical-align: top;\n",
       "    }\n",
       "\n",
       "    .dataframe thead th {\n",
       "        text-align: right;\n",
       "    }\n",
       "</style>\n",
       "<table border=\"1\" class=\"dataframe\">\n",
       "  <thead>\n",
       "    <tr style=\"text-align: right;\">\n",
       "      <th></th>\n",
       "      <th>duration</th>\n",
       "      <th>observed</th>\n",
       "      <th>gender</th>\n",
       "      <th>age</th>\n",
       "      <th>stage</th>\n",
       "    </tr>\n",
       "    <tr>\n",
       "      <th>bcr_patient_barcode</th>\n",
       "      <th></th>\n",
       "      <th></th>\n",
       "      <th></th>\n",
       "      <th></th>\n",
       "      <th></th>\n",
       "    </tr>\n",
       "  </thead>\n",
       "  <tbody>\n",
       "    <tr>\n",
       "      <th>TCGA-3L-AA1B</th>\n",
       "      <td>154</td>\n",
       "      <td>False</td>\n",
       "      <td>0</td>\n",
       "      <td>61.312329</td>\n",
       "      <td>1.0</td>\n",
       "    </tr>\n",
       "    <tr>\n",
       "      <th>TCGA-4N-A93T</th>\n",
       "      <td>8</td>\n",
       "      <td>False</td>\n",
       "      <td>1</td>\n",
       "      <td>67.186301</td>\n",
       "      <td>3.0</td>\n",
       "    </tr>\n",
       "    <tr>\n",
       "      <th>TCGA-4T-AA8H</th>\n",
       "      <td>160</td>\n",
       "      <td>False</td>\n",
       "      <td>0</td>\n",
       "      <td>42.449315</td>\n",
       "      <td>2.0</td>\n",
       "    </tr>\n",
       "    <tr>\n",
       "      <th>TCGA-5M-AAT4</th>\n",
       "      <td>49</td>\n",
       "      <td>True</td>\n",
       "      <td>1</td>\n",
       "      <td>74.232877</td>\n",
       "      <td>4.0</td>\n",
       "    </tr>\n",
       "    <tr>\n",
       "      <th>TCGA-5M-AAT6</th>\n",
       "      <td>290</td>\n",
       "      <td>True</td>\n",
       "      <td>0</td>\n",
       "      <td>40.690411</td>\n",
       "      <td>4.0</td>\n",
       "    </tr>\n",
       "  </tbody>\n",
       "</table>\n",
       "</div>"
      ],
      "text/plain": [
       "                     duration  observed  gender        age  stage\n",
       "bcr_patient_barcode                                              \n",
       "TCGA-3L-AA1B              154     False       0  61.312329    1.0\n",
       "TCGA-4N-A93T                8     False       1  67.186301    3.0\n",
       "TCGA-4T-AA8H              160     False       0  42.449315    2.0\n",
       "TCGA-5M-AAT4               49      True       1  74.232877    4.0\n",
       "TCGA-5M-AAT6              290      True       0  40.690411    4.0"
      ]
     },
     "execution_count": 14,
     "metadata": {},
     "output_type": "execute_result"
    }
   ],
   "source": [
    "survival = pd.read_csv(os.path.join(data_directory, 'survival.csv'), index_col=0)\n",
    "survival.head()"
   ]
  },
  {
   "cell_type": "code",
   "execution_count": 15,
   "id": "8fdf7a9a",
   "metadata": {},
   "outputs": [
    {
     "data": {
      "text/html": [
       "<div>\n",
       "<style scoped>\n",
       "    .dataframe tbody tr th:only-of-type {\n",
       "        vertical-align: middle;\n",
       "    }\n",
       "\n",
       "    .dataframe tbody tr th {\n",
       "        vertical-align: top;\n",
       "    }\n",
       "\n",
       "    .dataframe thead th {\n",
       "        text-align: right;\n",
       "    }\n",
       "</style>\n",
       "<table border=\"1\" class=\"dataframe\">\n",
       "  <thead>\n",
       "    <tr style=\"text-align: right;\">\n",
       "      <th></th>\n",
       "      <th>dataset</th>\n",
       "      <th>age</th>\n",
       "      <th>gender</th>\n",
       "      <th>stage</th>\n",
       "      <th>pt</th>\n",
       "      <th>pn</th>\n",
       "      <th>pm</th>\n",
       "      <th>tnm</th>\n",
       "      <th>grade</th>\n",
       "      <th>msi</th>\n",
       "      <th>cimp</th>\n",
       "      <th>kras_mut</th>\n",
       "      <th>braf_mut</th>\n",
       "      <th>cms_label</th>\n",
       "      <th>osMo</th>\n",
       "      <th>osStat</th>\n",
       "      <th>rfsMo</th>\n",
       "      <th>rfsStat</th>\n",
       "    </tr>\n",
       "    <tr>\n",
       "      <th>sample</th>\n",
       "      <th></th>\n",
       "      <th></th>\n",
       "      <th></th>\n",
       "      <th></th>\n",
       "      <th></th>\n",
       "      <th></th>\n",
       "      <th></th>\n",
       "      <th></th>\n",
       "      <th></th>\n",
       "      <th></th>\n",
       "      <th></th>\n",
       "      <th></th>\n",
       "      <th></th>\n",
       "      <th></th>\n",
       "      <th></th>\n",
       "      <th></th>\n",
       "      <th></th>\n",
       "      <th></th>\n",
       "    </tr>\n",
       "  </thead>\n",
       "  <tbody>\n",
       "    <tr>\n",
       "      <th>TCGA-A6-2670</th>\n",
       "      <td>tcga</td>\n",
       "      <td>45.0</td>\n",
       "      <td>male</td>\n",
       "      <td>2.0</td>\n",
       "      <td>3.0</td>\n",
       "      <td>0.0</td>\n",
       "      <td>0.0</td>\n",
       "      <td>IIA</td>\n",
       "      <td>NaN</td>\n",
       "      <td>NaN</td>\n",
       "      <td>CIMP.Neg</td>\n",
       "      <td>0.0</td>\n",
       "      <td>0.0</td>\n",
       "      <td>CMS4</td>\n",
       "      <td>13.906849</td>\n",
       "      <td>0.0</td>\n",
       "      <td>NaN</td>\n",
       "      <td>NaN</td>\n",
       "    </tr>\n",
       "    <tr>\n",
       "      <th>TCGA-A6-2671</th>\n",
       "      <td>tcga</td>\n",
       "      <td>85.0</td>\n",
       "      <td>male</td>\n",
       "      <td>4.0</td>\n",
       "      <td>3.0</td>\n",
       "      <td>2.0</td>\n",
       "      <td>1.0</td>\n",
       "      <td>IV</td>\n",
       "      <td>NaN</td>\n",
       "      <td>mss</td>\n",
       "      <td>CIMP.Neg</td>\n",
       "      <td>0.0</td>\n",
       "      <td>0.0</td>\n",
       "      <td>CMS4</td>\n",
       "      <td>21.304110</td>\n",
       "      <td>0.0</td>\n",
       "      <td>NaN</td>\n",
       "      <td>NaN</td>\n",
       "    </tr>\n",
       "    <tr>\n",
       "      <th>TCGA-A6-2672</th>\n",
       "      <td>tcga</td>\n",
       "      <td>82.0</td>\n",
       "      <td>female</td>\n",
       "      <td>3.0</td>\n",
       "      <td>3.0</td>\n",
       "      <td>1.0</td>\n",
       "      <td>0.0</td>\n",
       "      <td>IIIB</td>\n",
       "      <td>NaN</td>\n",
       "      <td>msi</td>\n",
       "      <td>CIMP.High</td>\n",
       "      <td>0.0</td>\n",
       "      <td>0.0</td>\n",
       "      <td>CMS1</td>\n",
       "      <td>16.536986</td>\n",
       "      <td>0.0</td>\n",
       "      <td>NaN</td>\n",
       "      <td>NaN</td>\n",
       "    </tr>\n",
       "    <tr>\n",
       "      <th>TCGA-A6-2674</th>\n",
       "      <td>tcga</td>\n",
       "      <td>71.0</td>\n",
       "      <td>male</td>\n",
       "      <td>4.0</td>\n",
       "      <td>3.0</td>\n",
       "      <td>2.0</td>\n",
       "      <td>1.0</td>\n",
       "      <td>IV</td>\n",
       "      <td>NaN</td>\n",
       "      <td>mss</td>\n",
       "      <td>CIMP.Neg</td>\n",
       "      <td>0.0</td>\n",
       "      <td>0.0</td>\n",
       "      <td>CMS4</td>\n",
       "      <td>17.194521</td>\n",
       "      <td>0.0</td>\n",
       "      <td>NaN</td>\n",
       "      <td>NaN</td>\n",
       "    </tr>\n",
       "    <tr>\n",
       "      <th>TCGA-A6-2675</th>\n",
       "      <td>tcga</td>\n",
       "      <td>78.0</td>\n",
       "      <td>male</td>\n",
       "      <td>2.0</td>\n",
       "      <td>3.0</td>\n",
       "      <td>0.0</td>\n",
       "      <td>NaN</td>\n",
       "      <td>IIA</td>\n",
       "      <td>NaN</td>\n",
       "      <td>mss</td>\n",
       "      <td>CIMP.Neg</td>\n",
       "      <td>0.0</td>\n",
       "      <td>0.0</td>\n",
       "      <td>CMS4</td>\n",
       "      <td>16.931507</td>\n",
       "      <td>0.0</td>\n",
       "      <td>NaN</td>\n",
       "      <td>NaN</td>\n",
       "    </tr>\n",
       "  </tbody>\n",
       "</table>\n",
       "</div>"
      ],
      "text/plain": [
       "             dataset   age  gender  stage   pt   pn   pm   tnm  grade  msi  \\\n",
       "sample                                                                       \n",
       "TCGA-A6-2670    tcga  45.0    male    2.0  3.0  0.0  0.0   IIA    NaN  NaN   \n",
       "TCGA-A6-2671    tcga  85.0    male    4.0  3.0  2.0  1.0    IV    NaN  mss   \n",
       "TCGA-A6-2672    tcga  82.0  female    3.0  3.0  1.0  0.0  IIIB    NaN  msi   \n",
       "TCGA-A6-2674    tcga  71.0    male    4.0  3.0  2.0  1.0    IV    NaN  mss   \n",
       "TCGA-A6-2675    tcga  78.0    male    2.0  3.0  0.0  NaN   IIA    NaN  mss   \n",
       "\n",
       "                   cimp  kras_mut  braf_mut cms_label       osMo  osStat  \\\n",
       "sample                                                                     \n",
       "TCGA-A6-2670   CIMP.Neg       0.0       0.0      CMS4  13.906849     0.0   \n",
       "TCGA-A6-2671   CIMP.Neg       0.0       0.0      CMS4  21.304110     0.0   \n",
       "TCGA-A6-2672  CIMP.High       0.0       0.0      CMS1  16.536986     0.0   \n",
       "TCGA-A6-2674   CIMP.Neg       0.0       0.0      CMS4  17.194521     0.0   \n",
       "TCGA-A6-2675   CIMP.Neg       0.0       0.0      CMS4  16.931507     0.0   \n",
       "\n",
       "              rfsMo  rfsStat  \n",
       "sample                        \n",
       "TCGA-A6-2670    NaN      NaN  \n",
       "TCGA-A6-2671    NaN      NaN  \n",
       "TCGA-A6-2672    NaN      NaN  \n",
       "TCGA-A6-2674    NaN      NaN  \n",
       "TCGA-A6-2675    NaN      NaN  "
      ]
     },
     "execution_count": 15,
     "metadata": {},
     "output_type": "execute_result"
    }
   ],
   "source": [
    "subtypes = pd.read_csv(os.path.join(data_directory, 'subtypes.csv'), index_col=0)\n",
    "subtypes.head()"
   ]
  },
  {
   "cell_type": "markdown",
   "id": "88e9584d",
   "metadata": {},
   "source": [
    "The cells below can be used to limit the study duration, setting all patients that had a status bigger than the allowed duration to have that duration and to be considered as alive."
   ]
  },
  {
   "cell_type": "code",
   "execution_count": 16,
   "id": "d5996859",
   "metadata": {},
   "outputs": [
    {
     "data": {
      "text/plain": [
       "'\\nstudy_duration = 100 * 12\\nsurvival.loc[survival[\"duration\"]>study_duration,[\"duration\", \"observed\"]] = [study_duration, False]\\n'"
      ]
     },
     "execution_count": 16,
     "metadata": {},
     "output_type": "execute_result"
    }
   ],
   "source": [
    "\"\"\"\n",
    "study_duration = 100 * 12\n",
    "survival.loc[survival[\"duration\"]>study_duration,[\"duration\", \"observed\"]] = [study_duration, False]\n",
    "\"\"\""
   ]
  },
  {
   "cell_type": "markdown",
   "id": "b82b346c",
   "metadata": {},
   "source": [
    "Plot a Kaplan-Meier plot of the whole dataset to have better view of it"
   ]
  },
  {
   "cell_type": "code",
   "execution_count": 17,
   "id": "0994848b",
   "metadata": {},
   "outputs": [
    {
     "data": {
      "text/plain": [
       "<AxesSubplot:xlabel='timeline'>"
      ]
     },
     "execution_count": 17,
     "metadata": {},
     "output_type": "execute_result"
    },
    {
     "data": {
      "image/png": "[encoded data removed]",
      "text/plain": [
       "<Figure size 1080x504 with 2 Axes>"
      ]
     },
     "metadata": {},
     "output_type": "display_data"
    }
   ],
   "source": [
    "kmf = lifelines.KaplanMeierFitter(label=\"Overall Survival\")\n",
    "kmf.fit(durations=survival[\"duration\"],\n",
    "        event_observed=survival[\"observed\"])\n",
    "plt.figure(figsize=(15,7))\n",
    "kmf.plot(show_censors=1, ci_show=1, at_risk_counts=True)"
   ]
  },
  {
   "cell_type": "markdown",
   "id": "20657939",
   "metadata": {},
   "source": [
    "Read the cBioPortal dataset's mRNA (Seq V2), Linear CNA and Methylation (hm450) datasets."
   ]
  },
  {
   "cell_type": "code",
   "execution_count": 18,
   "id": "3773af66",
   "metadata": {},
   "outputs": [
    {
     "data": {
      "text/plain": [
       "(100, 1000, 200)"
      ]
     },
     "execution_count": 18,
     "metadata": {},
     "output_type": "execute_result"
    }
   ],
   "source": [
    "cnv = pd.read_csv(os.path.join(data_directory, 'cnv.csv'), index_col=0)\n",
    "gex = pd.read_csv(os.path.join(data_directory, 'gex.csv'), index_col=0)\n",
    "mut = pd.read_csv(os.path.join(data_directory, 'mut.csv'), index_col=0)\n",
    "\n",
    "\n",
    "cnv.shape[0], gex.shape[0], mut.shape[0]"
   ]
  },
  {
   "cell_type": "markdown",
   "id": "905d8169",
   "metadata": {},
   "source": [
    "Remove any columns with a mode with more than 20% frequency"
   ]
  },
  {
   "cell_type": "markdown",
   "id": "c269f774",
   "metadata": {},
   "source": [
    "Check the maximum RNAseq count value in the dataset."
   ]
  },
  {
   "cell_type": "code",
   "execution_count": 19,
   "id": "de6d43b5",
   "metadata": {},
   "outputs": [
    {
     "data": {
      "text/plain": [
       "123568.560354"
      ]
     },
     "execution_count": 19,
     "metadata": {},
     "output_type": "execute_result"
    }
   ],
   "source": [
    "gex.max().max()"
   ]
  },
  {
   "cell_type": "code",
   "execution_count": null,
   "id": "01aaeaf4",
   "metadata": {},
   "outputs": [],
   "source": []
  },
  {
   "cell_type": "code",
   "execution_count": 20,
   "id": "17f36ebe",
   "metadata": {},
   "outputs": [
    {
     "data": {
      "text/html": [
       "<div>\n",
       "<style scoped>\n",
       "    .dataframe tbody tr th:only-of-type {\n",
       "        vertical-align: middle;\n",
       "    }\n",
       "\n",
       "    .dataframe tbody tr th {\n",
       "        vertical-align: top;\n",
       "    }\n",
       "\n",
       "    .dataframe thead th {\n",
       "        text-align: right;\n",
       "    }\n",
       "</style>\n",
       "<table border=\"1\" class=\"dataframe\">\n",
       "  <thead>\n",
       "    <tr style=\"text-align: right;\">\n",
       "      <th></th>\n",
       "      <th>TCGA-DM-A1D0</th>\n",
       "      <th>TCGA-4T-AA8H</th>\n",
       "      <th>TCGA-G4-6322</th>\n",
       "      <th>TCGA-AA-A02E</th>\n",
       "      <th>TCGA-CA-5797</th>\n",
       "      <th>TCGA-G4-6317</th>\n",
       "      <th>TCGA-DM-A28C</th>\n",
       "      <th>TCGA-A6-2679</th>\n",
       "      <th>TCGA-AG-3732</th>\n",
       "      <th>TCGA-A6-2685</th>\n",
       "      <th>...</th>\n",
       "      <th>SNU1033_LARGE_INTESTINE</th>\n",
       "      <th>SNU175_LARGE_INTESTINE</th>\n",
       "      <th>SNU503_LARGE_INTESTINE</th>\n",
       "      <th>SW1116_LARGE_INTESTINE</th>\n",
       "      <th>HCC56_LARGE_INTESTINE</th>\n",
       "      <th>SW403_LARGE_INTESTINE</th>\n",
       "      <th>SW837_LARGE_INTESTINE</th>\n",
       "      <th>NCIH716_LARGE_INTESTINE</th>\n",
       "      <th>HT55_LARGE_INTESTINE</th>\n",
       "      <th>RKO_LARGE_INTESTINE</th>\n",
       "    </tr>\n",
       "    <tr>\n",
       "      <th>Name</th>\n",
       "      <th></th>\n",
       "      <th></th>\n",
       "      <th></th>\n",
       "      <th></th>\n",
       "      <th></th>\n",
       "      <th></th>\n",
       "      <th></th>\n",
       "      <th></th>\n",
       "      <th></th>\n",
       "      <th></th>\n",
       "      <th></th>\n",
       "      <th></th>\n",
       "      <th></th>\n",
       "      <th></th>\n",
       "      <th></th>\n",
       "      <th></th>\n",
       "      <th></th>\n",
       "      <th></th>\n",
       "      <th></th>\n",
       "      <th></th>\n",
       "      <th></th>\n",
       "    </tr>\n",
       "  </thead>\n",
       "  <tbody>\n",
       "    <tr>\n",
       "      <th>ENSG00000202198</th>\n",
       "      <td>-0.089120</td>\n",
       "      <td>-0.088563</td>\n",
       "      <td>-0.088906</td>\n",
       "      <td>-0.089667</td>\n",
       "      <td>-0.088973</td>\n",
       "      <td>-0.083947</td>\n",
       "      <td>-0.089080</td>\n",
       "      <td>-0.088551</td>\n",
       "      <td>-0.089372</td>\n",
       "      <td>-0.087775</td>\n",
       "      <td>...</td>\n",
       "      <td>-0.533138</td>\n",
       "      <td>2.542210</td>\n",
       "      <td>-0.787012</td>\n",
       "      <td>-0.609028</td>\n",
       "      <td>-0.330970</td>\n",
       "      <td>0.156823</td>\n",
       "      <td>0.344240</td>\n",
       "      <td>0.053214</td>\n",
       "      <td>0.763240</td>\n",
       "      <td>1.470719</td>\n",
       "    </tr>\n",
       "    <tr>\n",
       "      <th>ENSG00000211895</th>\n",
       "      <td>-0.523424</td>\n",
       "      <td>-0.202332</td>\n",
       "      <td>0.570615</td>\n",
       "      <td>-0.413167</td>\n",
       "      <td>-0.397846</td>\n",
       "      <td>-0.507563</td>\n",
       "      <td>-0.478897</td>\n",
       "      <td>12.480840</td>\n",
       "      <td>0.453555</td>\n",
       "      <td>0.285514</td>\n",
       "      <td>...</td>\n",
       "      <td>-0.491682</td>\n",
       "      <td>-0.512073</td>\n",
       "      <td>-0.376185</td>\n",
       "      <td>1.310930</td>\n",
       "      <td>-0.512073</td>\n",
       "      <td>-0.117894</td>\n",
       "      <td>-0.380050</td>\n",
       "      <td>-0.487817</td>\n",
       "      <td>-0.351135</td>\n",
       "      <td>-0.512073</td>\n",
       "    </tr>\n",
       "    <tr>\n",
       "      <th>ENSG00000034510</th>\n",
       "      <td>-0.033693</td>\n",
       "      <td>-0.404153</td>\n",
       "      <td>-0.453233</td>\n",
       "      <td>-0.099766</td>\n",
       "      <td>-0.244176</td>\n",
       "      <td>0.139135</td>\n",
       "      <td>-0.637896</td>\n",
       "      <td>1.407156</td>\n",
       "      <td>-1.066801</td>\n",
       "      <td>0.485294</td>\n",
       "      <td>...</td>\n",
       "      <td>-0.258449</td>\n",
       "      <td>-0.229124</td>\n",
       "      <td>-0.663397</td>\n",
       "      <td>-0.916127</td>\n",
       "      <td>0.670186</td>\n",
       "      <td>-0.638025</td>\n",
       "      <td>-1.157067</td>\n",
       "      <td>-0.657820</td>\n",
       "      <td>0.137436</td>\n",
       "      <td>-0.475331</td>\n",
       "    </tr>\n",
       "    <tr>\n",
       "      <th>ENSG00000087086</th>\n",
       "      <td>8.178617</td>\n",
       "      <td>-1.318908</td>\n",
       "      <td>-0.841834</td>\n",
       "      <td>-0.396125</td>\n",
       "      <td>0.277463</td>\n",
       "      <td>-0.438901</td>\n",
       "      <td>-0.522082</td>\n",
       "      <td>-0.993424</td>\n",
       "      <td>-1.322327</td>\n",
       "      <td>0.556441</td>\n",
       "      <td>...</td>\n",
       "      <td>-0.653667</td>\n",
       "      <td>-1.081281</td>\n",
       "      <td>4.123571</td>\n",
       "      <td>-0.800612</td>\n",
       "      <td>-0.409376</td>\n",
       "      <td>-0.445570</td>\n",
       "      <td>0.136440</td>\n",
       "      <td>0.135698</td>\n",
       "      <td>1.448641</td>\n",
       "      <td>2.778090</td>\n",
       "    </tr>\n",
       "    <tr>\n",
       "      <th>ENSG00000102837</th>\n",
       "      <td>-0.511785</td>\n",
       "      <td>-0.490640</td>\n",
       "      <td>-0.159594</td>\n",
       "      <td>-0.284401</td>\n",
       "      <td>-0.433786</td>\n",
       "      <td>-0.518334</td>\n",
       "      <td>2.243403</td>\n",
       "      <td>-0.400271</td>\n",
       "      <td>-0.453776</td>\n",
       "      <td>-0.463837</td>\n",
       "      <td>...</td>\n",
       "      <td>-0.158675</td>\n",
       "      <td>-0.161104</td>\n",
       "      <td>-0.161094</td>\n",
       "      <td>-0.161145</td>\n",
       "      <td>7.250145</td>\n",
       "      <td>-0.148832</td>\n",
       "      <td>-0.161213</td>\n",
       "      <td>-0.161194</td>\n",
       "      <td>-0.159373</td>\n",
       "      <td>-0.161196</td>\n",
       "    </tr>\n",
       "  </tbody>\n",
       "</table>\n",
       "<p>5 rows × 573 columns</p>\n",
       "</div>"
      ],
      "text/plain": [
       "                 TCGA-DM-A1D0  TCGA-4T-AA8H  TCGA-G4-6322  TCGA-AA-A02E  \\\n",
       "Name                                                                      \n",
       "ENSG00000202198     -0.089120     -0.088563     -0.088906     -0.089667   \n",
       "ENSG00000211895     -0.523424     -0.202332      0.570615     -0.413167   \n",
       "ENSG00000034510     -0.033693     -0.404153     -0.453233     -0.099766   \n",
       "ENSG00000087086      8.178617     -1.318908     -0.841834     -0.396125   \n",
       "ENSG00000102837     -0.511785     -0.490640     -0.159594     -0.284401   \n",
       "\n",
       "                 TCGA-CA-5797  TCGA-G4-6317  TCGA-DM-A28C  TCGA-A6-2679  \\\n",
       "Name                                                                      \n",
       "ENSG00000202198     -0.088973     -0.083947     -0.089080     -0.088551   \n",
       "ENSG00000211895     -0.397846     -0.507563     -0.478897     12.480840   \n",
       "ENSG00000034510     -0.244176      0.139135     -0.637896      1.407156   \n",
       "ENSG00000087086      0.277463     -0.438901     -0.522082     -0.993424   \n",
       "ENSG00000102837     -0.433786     -0.518334      2.243403     -0.400271   \n",
       "\n",
       "                 TCGA-AG-3732  TCGA-A6-2685  ...  SNU1033_LARGE_INTESTINE  \\\n",
       "Name                                         ...                            \n",
       "ENSG00000202198     -0.089372     -0.087775  ...                -0.533138   \n",
       "ENSG00000211895      0.453555      0.285514  ...                -0.491682   \n",
       "ENSG00000034510     -1.066801      0.485294  ...                -0.258449   \n",
       "ENSG00000087086     -1.322327      0.556441  ...                -0.653667   \n",
       "ENSG00000102837     -0.453776     -0.463837  ...                -0.158675   \n",
       "\n",
       "                 SNU175_LARGE_INTESTINE  SNU503_LARGE_INTESTINE  \\\n",
       "Name                                                              \n",
       "ENSG00000202198                2.542210               -0.787012   \n",
       "ENSG00000211895               -0.512073               -0.376185   \n",
       "ENSG00000034510               -0.229124               -0.663397   \n",
       "ENSG00000087086               -1.081281                4.123571   \n",
       "ENSG00000102837               -0.161104               -0.161094   \n",
       "\n",
       "                 SW1116_LARGE_INTESTINE  HCC56_LARGE_INTESTINE  \\\n",
       "Name                                                             \n",
       "ENSG00000202198               -0.609028              -0.330970   \n",
       "ENSG00000211895                1.310930              -0.512073   \n",
       "ENSG00000034510               -0.916127               0.670186   \n",
       "ENSG00000087086               -0.800612              -0.409376   \n",
       "ENSG00000102837               -0.161145               7.250145   \n",
       "\n",
       "                 SW403_LARGE_INTESTINE  SW837_LARGE_INTESTINE  \\\n",
       "Name                                                            \n",
       "ENSG00000202198               0.156823               0.344240   \n",
       "ENSG00000211895              -0.117894              -0.380050   \n",
       "ENSG00000034510              -0.638025              -1.157067   \n",
       "ENSG00000087086              -0.445570               0.136440   \n",
       "ENSG00000102837              -0.148832              -0.161213   \n",
       "\n",
       "                 NCIH716_LARGE_INTESTINE  HT55_LARGE_INTESTINE  \\\n",
       "Name                                                             \n",
       "ENSG00000202198                 0.053214              0.763240   \n",
       "ENSG00000211895                -0.487817             -0.351135   \n",
       "ENSG00000034510                -0.657820              0.137436   \n",
       "ENSG00000087086                 0.135698              1.448641   \n",
       "ENSG00000102837                -0.161194             -0.159373   \n",
       "\n",
       "                 RKO_LARGE_INTESTINE  \n",
       "Name                                  \n",
       "ENSG00000202198             1.470719  \n",
       "ENSG00000211895            -0.512073  \n",
       "ENSG00000034510            -0.475331  \n",
       "ENSG00000087086             2.778090  \n",
       "ENSG00000102837            -0.161196  \n",
       "\n",
       "[5 rows x 573 columns]"
      ]
     },
     "execution_count": 20,
     "metadata": {},
     "output_type": "execute_result"
    }
   ],
   "source": [
    "gex_tcga = maui_scale(gex.loc[:,gex.columns.str.contains('TCGA')])\n",
    "gex_ccle = maui_scale(gex.loc[:,~gex.columns.str.contains('TCGA')])\n",
    "\n",
    "gex = pd.concat([gex_tcga, gex_ccle], axis=1)\n",
    "gex = maui_scale(gex)\n",
    "gex.head()"
   ]
  },
  {
   "cell_type": "code",
   "execution_count": 21,
   "id": "38af1553",
   "metadata": {},
   "outputs": [
    {
     "data": {
      "text/plain": [
       "22.32889197258275"
      ]
     },
     "execution_count": 21,
     "metadata": {},
     "output_type": "execute_result"
    }
   ],
   "source": [
    "gex.max().max()"
   ]
  },
  {
   "cell_type": "markdown",
   "id": "a62ee2ea",
   "metadata": {},
   "source": [
    "Get the datasets that will be used as features and apply (log2 1+x) to the count-based datasets:"
   ]
  },
  {
   "cell_type": "code",
   "execution_count": 22,
   "id": "0f2ab798",
   "metadata": {},
   "outputs": [],
   "source": [
    "clinical_patients = set(survival.index)\n",
    "gex_patients = set(gex.T.index)\n",
    "cnv_patients = set(cnv.T.index)\n",
    "mut_patients = set(mut.T.index)\n",
    "\n",
    "all_sets = [clinical_patients, gex_patients, cnv_patients, mut_patients]\n",
    "all_patients = functools.reduce(lambda x, y: x|y, all_sets, set())\n",
    "patients_on_all_datasets = functools.reduce(lambda x, y: x&y, all_sets, all_patients)"
   ]
  },
  {
   "cell_type": "code",
   "execution_count": 40,
   "id": "c9c7415d",
   "metadata": {},
   "outputs": [
    {
     "data": {
      "text/plain": [
       "514"
      ]
     },
     "execution_count": 40,
     "metadata": {},
     "output_type": "execute_result"
    }
   ],
   "source": [
    "len(patients_on_all_datasets)"
   ]
  },
  {
   "cell_type": "code",
   "execution_count": 23,
   "id": "948c9009",
   "metadata": {},
   "outputs": [],
   "source": [
    "df_clin = survival.loc[patients_on_all_datasets]\n",
    "df_gex = gex.T.loc[patients_on_all_datasets]\n",
    "df_cnv = cnv.T.loc[patients_on_all_datasets]\n",
    "df_mut = mut.T.loc[patients_on_all_datasets]\n",
    "feature_dfs = [df_gex, df_cnv, df_mut]"
   ]
  },
  {
   "cell_type": "code",
   "execution_count": 24,
   "id": "2ff5c222",
   "metadata": {},
   "outputs": [
    {
     "data": {
      "text/plain": [
       "{'PTPRT'}"
      ]
     },
     "execution_count": 24,
     "metadata": {},
     "output_type": "execute_result"
    }
   ],
   "source": [
    "set(df_cnv.columns) & set(df_mut.columns)"
   ]
  },
  {
   "cell_type": "code",
   "execution_count": 25,
   "id": "2161b30c",
   "metadata": {},
   "outputs": [],
   "source": [
    "df_cnv.columns = map(lambda x: x+\"_cnv\", df_cnv)"
   ]
  },
  {
   "cell_type": "code",
   "execution_count": 26,
   "id": "dca99bdd",
   "metadata": {},
   "outputs": [
    {
     "data": {
      "text/plain": [
       "set()"
      ]
     },
     "execution_count": 26,
     "metadata": {},
     "output_type": "execute_result"
    }
   ],
   "source": [
    "set(df_cnv.columns) & set(df_mut.columns)"
   ]
  },
  {
   "cell_type": "markdown",
   "id": "8762ebb7",
   "metadata": {},
   "source": [
    "Get the input dataset:"
   ]
  },
  {
   "cell_type": "code",
   "execution_count": 27,
   "id": "806a2326",
   "metadata": {},
   "outputs": [],
   "source": [
    "df_ae = functools.reduce(lambda x,y: x.join(y), feature_dfs[1:], feature_dfs[0])\n",
    "X_ae = scale(df_ae)\n",
    "X_ae = df_ae.values"
   ]
  },
  {
   "cell_type": "markdown",
   "id": "51c93c16",
   "metadata": {},
   "source": [
    "Plot a reduced dimensionality view of the dataset:"
   ]
  },
  {
   "cell_type": "code",
   "execution_count": 28,
   "id": "7515297f",
   "metadata": {},
   "outputs": [
    {
     "name": "stderr",
     "output_type": "stream",
     "text": [
      "/home/phcavelar/miniconda3/envs/lusc/lib/python3.9/site-packages/sklearn/manifold/_t_sne.py:780: FutureWarning: The default initialization in TSNE will change from 'random' to 'pca' in 1.2.\n",
      "  warnings.warn(\n",
      "/home/phcavelar/miniconda3/envs/lusc/lib/python3.9/site-packages/sklearn/manifold/_t_sne.py:790: FutureWarning: The default learning rate in TSNE will change from 200.0 to 'auto' in 1.2.\n",
      "  warnings.warn(\n"
     ]
    },
    {
     "data": {
      "image/png": "[encoded data removed]",
      "text/plain": [
       "<Figure size 432x288 with 1 Axes>"
      ]
     },
     "metadata": {},
     "output_type": "display_data"
    },
    {
     "data": {
      "image/png": "[encoded data removed]",
      "text/plain": [
       "<Figure size 432x288 with 1 Axes>"
      ]
     },
     "metadata": {},
     "output_type": "display_data"
    },
    {
     "data": {
      "image/png": "[encoded data removed]",
      "text/plain": [
       "<Figure size 432x288 with 1 Axes>"
      ]
     },
     "metadata": {},
     "output_type": "display_data"
    },
    {
     "data": {
      "text/html": [
       "<div>\n",
       "<style scoped>\n",
       "    .dataframe tbody tr th:only-of-type {\n",
       "        vertical-align: middle;\n",
       "    }\n",
       "\n",
       "    .dataframe tbody tr th {\n",
       "        vertical-align: top;\n",
       "    }\n",
       "\n",
       "    .dataframe thead th {\n",
       "        text-align: right;\n",
       "    }\n",
       "</style>\n",
       "<table border=\"1\" class=\"dataframe\">\n",
       "  <thead>\n",
       "    <tr style=\"text-align: right;\">\n",
       "      <th></th>\n",
       "      <th>TSNE_0</th>\n",
       "      <th>TSNE_1</th>\n",
       "      <th>duration</th>\n",
       "      <th>observed</th>\n",
       "      <th>gender</th>\n",
       "      <th>age</th>\n",
       "      <th>stage</th>\n",
       "      <th>cms_label</th>\n",
       "    </tr>\n",
       "  </thead>\n",
       "  <tbody>\n",
       "    <tr>\n",
       "      <th>TCGA-T9-A92H</th>\n",
       "      <td>-8.087224</td>\n",
       "      <td>2.761271</td>\n",
       "      <td>0</td>\n",
       "      <td>False</td>\n",
       "      <td>1</td>\n",
       "      <td>82.350685</td>\n",
       "      <td>2.0</td>\n",
       "      <td>NaN</td>\n",
       "    </tr>\n",
       "    <tr>\n",
       "      <th>TCGA-CL-5917</th>\n",
       "      <td>-10.661039</td>\n",
       "      <td>5.837550</td>\n",
       "      <td>1826</td>\n",
       "      <td>False</td>\n",
       "      <td>0</td>\n",
       "      <td>71.463014</td>\n",
       "      <td>3.0</td>\n",
       "      <td>CMS2</td>\n",
       "    </tr>\n",
       "    <tr>\n",
       "      <th>TCGA-DM-A28H</th>\n",
       "      <td>-3.235585</td>\n",
       "      <td>-1.056603</td>\n",
       "      <td>3423</td>\n",
       "      <td>False</td>\n",
       "      <td>1</td>\n",
       "      <td>50.205479</td>\n",
       "      <td>3.0</td>\n",
       "      <td>CMS2</td>\n",
       "    </tr>\n",
       "    <tr>\n",
       "      <th>TCGA-A6-5666</th>\n",
       "      <td>1.131497</td>\n",
       "      <td>3.227939</td>\n",
       "      <td>244</td>\n",
       "      <td>False</td>\n",
       "      <td>1</td>\n",
       "      <td>78.120548</td>\n",
       "      <td>2.0</td>\n",
       "      <td>CMS2</td>\n",
       "    </tr>\n",
       "    <tr>\n",
       "      <th>TCGA-AA-A02W</th>\n",
       "      <td>-1.617617</td>\n",
       "      <td>6.776318</td>\n",
       "      <td>31</td>\n",
       "      <td>False</td>\n",
       "      <td>0</td>\n",
       "      <td>73.131507</td>\n",
       "      <td>1.0</td>\n",
       "      <td>CMS2</td>\n",
       "    </tr>\n",
       "    <tr>\n",
       "      <th>...</th>\n",
       "      <td>...</td>\n",
       "      <td>...</td>\n",
       "      <td>...</td>\n",
       "      <td>...</td>\n",
       "      <td>...</td>\n",
       "      <td>...</td>\n",
       "      <td>...</td>\n",
       "      <td>...</td>\n",
       "    </tr>\n",
       "    <tr>\n",
       "      <th>TCGA-AG-3725</th>\n",
       "      <td>2.445113</td>\n",
       "      <td>-3.216129</td>\n",
       "      <td>0</td>\n",
       "      <td>False</td>\n",
       "      <td>0</td>\n",
       "      <td>90.060274</td>\n",
       "      <td>3.0</td>\n",
       "      <td>CMS3</td>\n",
       "    </tr>\n",
       "    <tr>\n",
       "      <th>TCGA-F5-6464</th>\n",
       "      <td>-2.039455</td>\n",
       "      <td>-9.673727</td>\n",
       "      <td>0</td>\n",
       "      <td>False</td>\n",
       "      <td>0</td>\n",
       "      <td>77.172603</td>\n",
       "      <td>3.0</td>\n",
       "      <td>CMS4</td>\n",
       "    </tr>\n",
       "    <tr>\n",
       "      <th>TCGA-QG-A5YV</th>\n",
       "      <td>-2.483420</td>\n",
       "      <td>1.909504</td>\n",
       "      <td>821</td>\n",
       "      <td>False</td>\n",
       "      <td>0</td>\n",
       "      <td>64.380822</td>\n",
       "      <td>3.0</td>\n",
       "      <td>CMS2</td>\n",
       "    </tr>\n",
       "    <tr>\n",
       "      <th>TCGA-QG-A5Z2</th>\n",
       "      <td>6.742043</td>\n",
       "      <td>-9.508049</td>\n",
       "      <td>449</td>\n",
       "      <td>False</td>\n",
       "      <td>1</td>\n",
       "      <td>61.279452</td>\n",
       "      <td>1.0</td>\n",
       "      <td>CMS3</td>\n",
       "    </tr>\n",
       "    <tr>\n",
       "      <th>TCGA-DM-A282</th>\n",
       "      <td>0.016064</td>\n",
       "      <td>2.319899</td>\n",
       "      <td>4122</td>\n",
       "      <td>False</td>\n",
       "      <td>0</td>\n",
       "      <td>61.000000</td>\n",
       "      <td>2.0</td>\n",
       "      <td>CMS2</td>\n",
       "    </tr>\n",
       "  </tbody>\n",
       "</table>\n",
       "<p>514 rows × 8 columns</p>\n",
       "</div>"
      ],
      "text/plain": [
       "                 TSNE_0    TSNE_1  duration  observed  gender        age  \\\n",
       "TCGA-T9-A92H  -8.087224  2.761271         0     False       1  82.350685   \n",
       "TCGA-CL-5917 -10.661039  5.837550      1826     False       0  71.463014   \n",
       "TCGA-DM-A28H  -3.235585 -1.056603      3423     False       1  50.205479   \n",
       "TCGA-A6-5666   1.131497  3.227939       244     False       1  78.120548   \n",
       "TCGA-AA-A02W  -1.617617  6.776318        31     False       0  73.131507   \n",
       "...                 ...       ...       ...       ...     ...        ...   \n",
       "TCGA-AG-3725   2.445113 -3.216129         0     False       0  90.060274   \n",
       "TCGA-F5-6464  -2.039455 -9.673727         0     False       0  77.172603   \n",
       "TCGA-QG-A5YV  -2.483420  1.909504       821     False       0  64.380822   \n",
       "TCGA-QG-A5Z2   6.742043 -9.508049       449     False       1  61.279452   \n",
       "TCGA-DM-A282   0.016064  2.319899      4122     False       0  61.000000   \n",
       "\n",
       "              stage cms_label  \n",
       "TCGA-T9-A92H    2.0       NaN  \n",
       "TCGA-CL-5917    3.0      CMS2  \n",
       "TCGA-DM-A28H    3.0      CMS2  \n",
       "TCGA-A6-5666    2.0      CMS2  \n",
       "TCGA-AA-A02W    1.0      CMS2  \n",
       "...             ...       ...  \n",
       "TCGA-AG-3725    3.0      CMS3  \n",
       "TCGA-F5-6464    3.0      CMS4  \n",
       "TCGA-QG-A5YV    3.0      CMS2  \n",
       "TCGA-QG-A5Z2    1.0      CMS3  \n",
       "TCGA-DM-A282    2.0      CMS2  \n",
       "\n",
       "[514 rows x 8 columns]"
      ]
     },
     "execution_count": 28,
     "metadata": {},
     "output_type": "execute_result"
    }
   ],
   "source": [
    "n_components = 2\n",
    "df_plot = pd.DataFrame(dim_reduction(n_components).fit_transform(X_ae), index=df_ae.index, columns=[dim_reduction_label.format(i) for i in range(n_components)])\n",
    "df_plot = df_plot.join(df_clin).join(subtypes[[\"cms_label\"]], how=\"left\")\n",
    "sns.scatterplot(data=df_plot, x=dim_reduction_label.format(0), y=dim_reduction_label.format(1), hue=\"observed\")\n",
    "plt.show()\n",
    "sns.scatterplot(data=df_plot, x=dim_reduction_label.format(0), y=dim_reduction_label.format(1), hue=\"cms_label\")\n",
    "plt.show()\n",
    "sns.scatterplot(data=df_plot[df_plot[\"observed\"]], x=dim_reduction_label.format(0), y=dim_reduction_label.format(1), hue=\"duration\")\n",
    "plt.show()\n",
    "df_plot"
   ]
  },
  {
   "cell_type": "markdown",
   "id": "481c5a17",
   "metadata": {},
   "source": [
    "## Integrating the Data With an Autoencoder"
   ]
  },
  {
   "cell_type": "markdown",
   "id": "79577755",
   "metadata": {},
   "source": [
    "Get the column sizes for each type of data to build a differential loss for each column:"
   ]
  },
  {
   "cell_type": "code",
   "execution_count": 29,
   "id": "dd858c6b",
   "metadata": {},
   "outputs": [
    {
     "data": {
      "text/plain": [
       "[0, 1000, 1100, 1300]"
      ]
     },
     "execution_count": 29,
     "metadata": {},
     "output_type": "execute_result"
    }
   ],
   "source": [
    "column_sizes = functools.reduce(lambda x,y: x+[x[-1]+y], [len(df.columns) for df in feature_dfs], [0])\n",
    "column_sizes"
   ]
  },
  {
   "cell_type": "code",
   "execution_count": 30,
   "id": "d3b420ad",
   "metadata": {},
   "outputs": [],
   "source": [
    "bias_eps = 1e-6\n",
    "def init_weights(m):\n",
    "    if isinstance(m, nn.Linear):\n",
    "        torch.nn.init.xavier_uniform_(m.weight)\n",
    "        m.bias.data.fill_(bias_eps)"
   ]
  },
  {
   "cell_type": "code",
   "execution_count": 31,
   "id": "de6def68",
   "metadata": {
    "scrolled": true
   },
   "outputs": [
    {
     "name": "stdout",
     "output_type": "stream",
     "text": [
      "255 -148702720.0\u001b[1KKKKKKK\r"
     ]
    },
    {
     "data": {
      "image/png": "[encoded data removed]",
      "text/plain": [
       "<Figure size 432x288 with 1 Axes>"
      ]
     },
     "metadata": {},
     "output_type": "display_data"
    }
   ],
   "source": [
    "d_in = X_ae.shape[-1]\n",
    "\n",
    "ae = Autoencoder(\n",
    "        input_dim = d_in,\n",
    "        hidden_dims = [512],\n",
    "        encoding_dim = 128,\n",
    "        nonlinearity = F.relu,#torch.tanh,\n",
    "        final_nonlinearity = lambda x:x,#torch.tanh,\n",
    "        dropout_rate = 0.3,\n",
    "        bias = True)\n",
    "ae.apply(init_weights)\n",
    "\n",
    "parameter_normalizations = [(1e-3, 1)]\n",
    "activation_normalizations = [(1e-4, 2)]\n",
    "average_norms = True\n",
    "l2_weight_decay = 0#1e-4\n",
    "noise_std = 0.2\n",
    "\n",
    "opt = torch.optim.Adam(ae.parameters(), lr=1e-3, weight_decay = l2_weight_decay)\n",
    "\n",
    "tX_ae_clean = torch.tensor(X_ae, dtype=torch.float32)\n",
    "\n",
    "epochs = 256\n",
    "losses = []\n",
    "for e in range(epochs):\n",
    "    act_norms = 0\n",
    "    act_norms_count = 0\n",
    "    param_norms = 0\n",
    "    param_norms_count = 0\n",
    "    \n",
    "    tX_ae = tX_ae_clean + torch.normal(torch.zeros_like(tX_ae_clean), noise_std)\n",
    "    \n",
    "    if activation_normalizations is not None and len(activation_normalizations) > 0:\n",
    "        activations = ae.layer_activations(tX_ae)\n",
    "        y = activations[-1]\n",
    "        for norm_weight, norm_type in activation_normalizations:\n",
    "            act_norms += norm_weight * sum((torch.norm(acts, norm_type) for acts in activations[:-1]))/len(activations[:-1]) # Last layer isn't included here\n",
    "            act_norms_count += 1\n",
    "        act_norms /= act_norms_count if average_norms else 1\n",
    "    else:\n",
    "        y = ae(tX_ae)\n",
    "    acc = 0\n",
    "    reconstruction_losses = [\n",
    "        #F.mse_loss(y[...,s:t], tX_ae[...,s:t])\n",
    "        F.binary_cross_entropy_with_logits(y[...,s:t], tX_ae[...,s:t])\n",
    "            for s,t in zip(column_sizes[:-1], column_sizes[1:])\n",
    "    ]\n",
    "    \n",
    "    for norm_weight, norm_type in parameter_normalizations:\n",
    "        param_norms += norm_weight * sum((torch.norm(params, norm_type) for params in ae.parameters()))/len(list(ae.parameters()))\n",
    "        param_norms_count += 1\n",
    "    param_norms /= param_norms_count if average_norms else 1\n",
    "        \n",
    "    loss = sum(reconstruction_losses) + param_norms + act_norms\n",
    "    opt.zero_grad()\n",
    "    loss.backward()\n",
    "    opt.step()\n",
    "    losses.append(loss.detach().numpy().item())\n",
    "    print(\"{} {}\".format(e, losses[-1]), end='\\x1b[1K\\r')\n",
    "sns.lineplot(x=list(range(len(losses))), y=losses)\n",
    "\n",
    "ae.eval()\n",
    "integrated_values = ae.encode(tX_ae).detach().numpy()"
   ]
  },
  {
   "cell_type": "markdown",
   "id": "9006a2fe",
   "metadata": {},
   "source": [
    "Visualise the embeddings in a lower-dimensionality projection:"
   ]
  },
  {
   "cell_type": "code",
   "execution_count": 32,
   "id": "0cadfdf6",
   "metadata": {},
   "outputs": [
    {
     "name": "stderr",
     "output_type": "stream",
     "text": [
      "/home/phcavelar/miniconda3/envs/lusc/lib/python3.9/site-packages/sklearn/manifold/_t_sne.py:780: FutureWarning: The default initialization in TSNE will change from 'random' to 'pca' in 1.2.\n",
      "  warnings.warn(\n",
      "/home/phcavelar/miniconda3/envs/lusc/lib/python3.9/site-packages/sklearn/manifold/_t_sne.py:790: FutureWarning: The default learning rate in TSNE will change from 200.0 to 'auto' in 1.2.\n",
      "  warnings.warn(\n"
     ]
    },
    {
     "data": {
      "image/png": "[encoded data removed]",
      "text/plain": [
       "<Figure size 432x288 with 1 Axes>"
      ]
     },
     "metadata": {},
     "output_type": "display_data"
    },
    {
     "data": {
      "image/png": "[encoded data removed]",
      "text/plain": [
       "<Figure size 432x288 with 1 Axes>"
      ]
     },
     "metadata": {},
     "output_type": "display_data"
    },
    {
     "data": {
      "image/png": "[encoded data removed]",
      "text/plain": [
       "<Figure size 432x288 with 1 Axes>"
      ]
     },
     "metadata": {},
     "output_type": "display_data"
    },
    {
     "data": {
      "text/html": [
       "<div>\n",
       "<style scoped>\n",
       "    .dataframe tbody tr th:only-of-type {\n",
       "        vertical-align: middle;\n",
       "    }\n",
       "\n",
       "    .dataframe tbody tr th {\n",
       "        vertical-align: top;\n",
       "    }\n",
       "\n",
       "    .dataframe thead th {\n",
       "        text-align: right;\n",
       "    }\n",
       "</style>\n",
       "<table border=\"1\" class=\"dataframe\">\n",
       "  <thead>\n",
       "    <tr style=\"text-align: right;\">\n",
       "      <th></th>\n",
       "      <th>TSNE_0</th>\n",
       "      <th>TSNE_1</th>\n",
       "      <th>duration</th>\n",
       "      <th>observed</th>\n",
       "      <th>gender</th>\n",
       "      <th>age</th>\n",
       "      <th>stage</th>\n",
       "      <th>cms_label</th>\n",
       "    </tr>\n",
       "  </thead>\n",
       "  <tbody>\n",
       "    <tr>\n",
       "      <th>TCGA-T9-A92H</th>\n",
       "      <td>4.737426</td>\n",
       "      <td>2.818671</td>\n",
       "      <td>0</td>\n",
       "      <td>False</td>\n",
       "      <td>1</td>\n",
       "      <td>82.350685</td>\n",
       "      <td>2.0</td>\n",
       "      <td>NaN</td>\n",
       "    </tr>\n",
       "    <tr>\n",
       "      <th>TCGA-CL-5917</th>\n",
       "      <td>11.125021</td>\n",
       "      <td>2.274207</td>\n",
       "      <td>1826</td>\n",
       "      <td>False</td>\n",
       "      <td>0</td>\n",
       "      <td>71.463014</td>\n",
       "      <td>3.0</td>\n",
       "      <td>CMS2</td>\n",
       "    </tr>\n",
       "    <tr>\n",
       "      <th>TCGA-DM-A28H</th>\n",
       "      <td>-2.167860</td>\n",
       "      <td>-18.850313</td>\n",
       "      <td>3423</td>\n",
       "      <td>False</td>\n",
       "      <td>1</td>\n",
       "      <td>50.205479</td>\n",
       "      <td>3.0</td>\n",
       "      <td>CMS2</td>\n",
       "    </tr>\n",
       "    <tr>\n",
       "      <th>TCGA-A6-5666</th>\n",
       "      <td>-5.074943</td>\n",
       "      <td>7.127551</td>\n",
       "      <td>244</td>\n",
       "      <td>False</td>\n",
       "      <td>1</td>\n",
       "      <td>78.120548</td>\n",
       "      <td>2.0</td>\n",
       "      <td>CMS2</td>\n",
       "    </tr>\n",
       "    <tr>\n",
       "      <th>TCGA-AA-A02W</th>\n",
       "      <td>2.609185</td>\n",
       "      <td>7.735252</td>\n",
       "      <td>31</td>\n",
       "      <td>False</td>\n",
       "      <td>0</td>\n",
       "      <td>73.131507</td>\n",
       "      <td>1.0</td>\n",
       "      <td>CMS2</td>\n",
       "    </tr>\n",
       "    <tr>\n",
       "      <th>...</th>\n",
       "      <td>...</td>\n",
       "      <td>...</td>\n",
       "      <td>...</td>\n",
       "      <td>...</td>\n",
       "      <td>...</td>\n",
       "      <td>...</td>\n",
       "      <td>...</td>\n",
       "      <td>...</td>\n",
       "    </tr>\n",
       "    <tr>\n",
       "      <th>TCGA-AG-3725</th>\n",
       "      <td>-1.437037</td>\n",
       "      <td>-2.941498</td>\n",
       "      <td>0</td>\n",
       "      <td>False</td>\n",
       "      <td>0</td>\n",
       "      <td>90.060274</td>\n",
       "      <td>3.0</td>\n",
       "      <td>CMS3</td>\n",
       "    </tr>\n",
       "    <tr>\n",
       "      <th>TCGA-F5-6464</th>\n",
       "      <td>1.942286</td>\n",
       "      <td>-13.662967</td>\n",
       "      <td>0</td>\n",
       "      <td>False</td>\n",
       "      <td>0</td>\n",
       "      <td>77.172603</td>\n",
       "      <td>3.0</td>\n",
       "      <td>CMS4</td>\n",
       "    </tr>\n",
       "    <tr>\n",
       "      <th>TCGA-QG-A5YV</th>\n",
       "      <td>0.896180</td>\n",
       "      <td>1.945847</td>\n",
       "      <td>821</td>\n",
       "      <td>False</td>\n",
       "      <td>0</td>\n",
       "      <td>64.380822</td>\n",
       "      <td>3.0</td>\n",
       "      <td>CMS2</td>\n",
       "    </tr>\n",
       "    <tr>\n",
       "      <th>TCGA-QG-A5Z2</th>\n",
       "      <td>-6.011350</td>\n",
       "      <td>-8.471555</td>\n",
       "      <td>449</td>\n",
       "      <td>False</td>\n",
       "      <td>1</td>\n",
       "      <td>61.279452</td>\n",
       "      <td>1.0</td>\n",
       "      <td>CMS3</td>\n",
       "    </tr>\n",
       "    <tr>\n",
       "      <th>TCGA-DM-A282</th>\n",
       "      <td>-1.819054</td>\n",
       "      <td>2.612753</td>\n",
       "      <td>4122</td>\n",
       "      <td>False</td>\n",
       "      <td>0</td>\n",
       "      <td>61.000000</td>\n",
       "      <td>2.0</td>\n",
       "      <td>CMS2</td>\n",
       "    </tr>\n",
       "  </tbody>\n",
       "</table>\n",
       "<p>514 rows × 8 columns</p>\n",
       "</div>"
      ],
      "text/plain": [
       "                 TSNE_0     TSNE_1  duration  observed  gender        age  \\\n",
       "TCGA-T9-A92H   4.737426   2.818671         0     False       1  82.350685   \n",
       "TCGA-CL-5917  11.125021   2.274207      1826     False       0  71.463014   \n",
       "TCGA-DM-A28H  -2.167860 -18.850313      3423     False       1  50.205479   \n",
       "TCGA-A6-5666  -5.074943   7.127551       244     False       1  78.120548   \n",
       "TCGA-AA-A02W   2.609185   7.735252        31     False       0  73.131507   \n",
       "...                 ...        ...       ...       ...     ...        ...   \n",
       "TCGA-AG-3725  -1.437037  -2.941498         0     False       0  90.060274   \n",
       "TCGA-F5-6464   1.942286 -13.662967         0     False       0  77.172603   \n",
       "TCGA-QG-A5YV   0.896180   1.945847       821     False       0  64.380822   \n",
       "TCGA-QG-A5Z2  -6.011350  -8.471555       449     False       1  61.279452   \n",
       "TCGA-DM-A282  -1.819054   2.612753      4122     False       0  61.000000   \n",
       "\n",
       "              stage cms_label  \n",
       "TCGA-T9-A92H    2.0       NaN  \n",
       "TCGA-CL-5917    3.0      CMS2  \n",
       "TCGA-DM-A28H    3.0      CMS2  \n",
       "TCGA-A6-5666    2.0      CMS2  \n",
       "TCGA-AA-A02W    1.0      CMS2  \n",
       "...             ...       ...  \n",
       "TCGA-AG-3725    3.0      CMS3  \n",
       "TCGA-F5-6464    3.0      CMS4  \n",
       "TCGA-QG-A5YV    3.0      CMS2  \n",
       "TCGA-QG-A5Z2    1.0      CMS3  \n",
       "TCGA-DM-A282    2.0      CMS2  \n",
       "\n",
       "[514 rows x 8 columns]"
      ]
     },
     "execution_count": 32,
     "metadata": {},
     "output_type": "execute_result"
    }
   ],
   "source": [
    "n_components = 2\n",
    "df_plot = pd.DataFrame(dim_reduction(n_components).fit_transform(X_ae), index=df_ae.index, columns=[dim_reduction_label.format(i) for i in range(n_components)])\n",
    "df_plot = df_plot.join(df_clin).join(subtypes[[\"cms_label\"]], how=\"left\")\n",
    "sns.scatterplot(data=df_plot, x=dim_reduction_label.format(0), y=dim_reduction_label.format(1), hue=\"observed\")\n",
    "plt.show()\n",
    "sns.scatterplot(data=df_plot[df_plot[\"observed\"]], x=dim_reduction_label.format(0), y=dim_reduction_label.format(1), hue=\"duration\")\n",
    "plt.show()\n",
    "sns.scatterplot(data=df_plot, x=dim_reduction_label.format(0), y=dim_reduction_label.format(1), hue=\"cms_label\")\n",
    "plt.show()\n",
    "df_plot"
   ]
  },
  {
   "cell_type": "markdown",
   "id": "f2a01d8d",
   "metadata": {},
   "source": [
    "### Find the Significant Factors  "
   ]
  },
  {
   "cell_type": "code",
   "execution_count": 33,
   "id": "f2bdb46f",
   "metadata": {},
   "outputs": [
    {
     "name": "stdout",
     "output_type": "stream",
     "text": [
      "\n",
      "[]\n",
      "[]\n"
     ]
    }
   ],
   "source": [
    "# Set the threshold for significance\n",
    "significance_threshold = 0.05\n",
    "\n",
    "significant_factors_list = []\n",
    "logRank_Pvalues_list = []\n",
    "\n",
    "with warnings.catch_warnings():\n",
    "    warnings.simplefilter('ignore')\n",
    "    # logRank_Pvalues is a vector that will store the log-rank p-values of each \n",
    "    # univariate Cox-PH models built\n",
    "    logRank_Pvalues = list()\n",
    "    # significant_factors is a vector that will store every factor for which a \n",
    "    # significant Cox-PH model was built (log-rank P < 0.05)\n",
    "    significant_factor_indexes = list()\n",
    "    # Iterate over all factors/features of the actual dataframe\n",
    "    for i in range(integrated_values.shape[1]):\n",
    "        # Create a df with 3 columns, one for factor, one for OS_MONTHS\n",
    "        # and one for OS_STATUS\n",
    "        factor_df = pd.DataFrame(\n",
    "            {\n",
    "                \"duration\": df_clin[\"duration\"].values,\n",
    "                \"observed\": df_clin[\"observed\"].values,\n",
    "                \"Factor_{}\".format(i): integrated_values[:,i]\n",
    "            }\n",
    "        )\n",
    "        # Build univariate COX-PH models\n",
    "        cox_ph = lifelines.fitters.coxph_fitter.CoxPHFitter().fit(factor_df, \"duration\", \"observed\")\n",
    "        #log_rank_p_value = cox_ph.log_likelihood_ratio_test().p_value #summary[\"-log2(p)\"][0]\n",
    "        log_rank_p_value = cox_ph.summary[\"p\"].mean()\n",
    "        if (log_rank_p_value<significance_threshold):\n",
    "            significant_factor_indexes.append(i)\n",
    "            logRank_Pvalues.append(log_rank_p_value)\n",
    "\n",
    "    print(\"\")\n",
    "    print(significant_factor_indexes)\n",
    "    print(logRank_Pvalues)"
   ]
  },
  {
   "cell_type": "code",
   "execution_count": 34,
   "id": "507763c9",
   "metadata": {},
   "outputs": [
    {
     "name": "stdout",
     "output_type": "stream",
     "text": [
      "\n"
     ]
    }
   ],
   "source": [
    "print(\n",
    "    *[\n",
    "        \"[{idx}]/{pval:.4f}\".format(\n",
    "            idx=idx,\n",
    "            pval=pval\n",
    "        ) for idx, pval in\n",
    "        zip(\n",
    "            significant_factor_indexes,\n",
    "            logRank_Pvalues\n",
    "        )\n",
    "    ],\n",
    "    sep=\", \"\n",
    ")"
   ]
  },
  {
   "cell_type": "code",
   "execution_count": 35,
   "id": "00fbe747",
   "metadata": {},
   "outputs": [
    {
     "name": "stdout",
     "output_type": "stream",
     "text": [
      "nan\n"
     ]
    }
   ],
   "source": [
    "with warnings.catch_warnings():\n",
    "    warnings.simplefilter('ignore')\n",
    "    # Create a df with 3 columns, one for factor, one for OS_MONTHS\n",
    "    # and one for OS_STATUS\n",
    "    factor_df = pd.DataFrame(\n",
    "        {\n",
    "            \"duration\": df_clin[\"duration\"].values,\n",
    "            \"observed\": df_clin[\"observed\"].values,\n",
    "            **{\n",
    "                \"Factor_{}\".format(i): integrated_values[:,i]\n",
    "                for i in significant_factor_indexes\n",
    "            }\n",
    "        }\n",
    "    )\n",
    "    # Build a multivariate COX-PH model for all the factors\n",
    "    cox_ph = lifelines.fitters.coxph_fitter.CoxPHFitter().fit(factor_df, \"duration\", \"observed\")\n",
    "    #log_rank_p_value = cox_ph.log_likelihood_ratio_test().p_value #summary[\"-log2(p)\"][0]\n",
    "    log_rank_p_value = cox_ph.summary[\"p\"].mean()\n",
    "\n",
    "    print(log_rank_p_value)"
   ]
  },
  {
   "cell_type": "code",
   "execution_count": 36,
   "id": "9ef70e83",
   "metadata": {},
   "outputs": [
    {
     "name": "stdout",
     "output_type": "stream",
     "text": [
      "\n",
      "[]\n",
      "[]\n"
     ]
    }
   ],
   "source": [
    "# Set the threshold for significance\n",
    "significance_threshold = 0.05\n",
    "\n",
    "combinations_significant_factors_list = []\n",
    "combinations_logRank_Pvalues_list = []\n",
    "\n",
    "with warnings.catch_warnings():\n",
    "    warnings.simplefilter('ignore')\n",
    "    # logRank_Pvalues is a vector that will store the log-rank p-values of each \n",
    "    # univariate Cox-PH models built\n",
    "    combinations_logRank_Pvalues = [p for p in logRank_Pvalues]\n",
    "    # significant_factors is a vector that will store every factor for which a \n",
    "    # significant Cox-PH model was built (log-rank P < 0.05)\n",
    "    combinations_significant_factor_indexes = [[i] for i in significant_factor_indexes]\n",
    "    number_of_significant_factors = len(significant_factor_indexes)\n",
    "    minimum_logging_interval = 100\n",
    "    last_log = 0\n",
    "    try:\n",
    "        # Iterate over all factors/features of the actual dataframe\n",
    "        for k in range(2, number_of_significant_factors+1):\n",
    "            for factor_indexes in itertools.combinations(significant_factor_indexes, k):\n",
    "                # Create a df with 3 columns, one for factor, one for OS_MONTHS\n",
    "                # and one for OS_STATUS\n",
    "                factor_df = pd.DataFrame(\n",
    "                    {\n",
    "                        \"duration\": df_clin[\"duration\"].values,\n",
    "                        \"observed\": df_clin[\"observed\"].values,\n",
    "                        **{\n",
    "                            \"Factor_{}\".format(i): integrated_values[:,i]\n",
    "                            for i in factor_indexes\n",
    "                        }\n",
    "\n",
    "                    }\n",
    "                )\n",
    "                # Build univariate COX-PH models\n",
    "                cox_ph = lifelines.fitters.coxph_fitter.CoxPHFitter().fit(factor_df, \"duration\", \"observed\")\n",
    "                #log_rank_p_value = cox_ph.log_likelihood_ratio_test().p_value #summary[\"-log2(p)\"][0]\n",
    "                log_rank_p_value = cox_ph.summary[\"p\"].mean()\n",
    "                if (log_rank_p_value<significance_threshold):\n",
    "                    combinations_significant_factor_indexes.append(factor_indexes)\n",
    "                    combinations_logRank_Pvalues.append(log_rank_p_value)\n",
    "                if (log_rank_p_value<significance_threshold or last_log > minimum_logging_interval):\n",
    "                    last_log = 0\n",
    "                    print(log_rank_p_value, factor_indexes)\n",
    "                else:\n",
    "                    last_log\n",
    "    except KeyboardInterrupt:\n",
    "        pass\n",
    "    print(\"\")\n",
    "    print(combinations_significant_factor_indexes)\n",
    "    print(combinations_logRank_Pvalues)"
   ]
  },
  {
   "cell_type": "code",
   "execution_count": 37,
   "id": "67630df1",
   "metadata": {},
   "outputs": [
    {
     "name": "stdout",
     "output_type": "stream",
     "text": [
      "\n"
     ]
    }
   ],
   "source": [
    "print(\n",
    "    *[\n",
    "        \"{idx}/{pval:.4f}\".format(\n",
    "            idx=idx,\n",
    "            pval=pval\n",
    "        ) for idx, pval in\n",
    "        zip(\n",
    "            combinations_significant_factor_indexes,\n",
    "            combinations_logRank_Pvalues\n",
    "        ) if len(idx)>1\n",
    "    ],\n",
    "    sep=\", \"\n",
    ")"
   ]
  },
  {
   "cell_type": "code",
   "execution_count": 38,
   "id": "4dc7d7d9",
   "metadata": {},
   "outputs": [
    {
     "ename": "ValueError",
     "evalue": "attempt to get argmin of an empty sequence",
     "output_type": "error",
     "traceback": [
      "\u001b[0;31m---------------------------------------------------------------------------\u001b[0m",
      "\u001b[0;31mValueError\u001b[0m                                Traceback (most recent call last)",
      "\u001b[0;32m/tmp/ipykernel_15971/4240458216.py\u001b[0m in \u001b[0;36m<module>\u001b[0;34m\u001b[0m\n\u001b[0;32m----> 1\u001b[0;31m \u001b[0mlowest_combination\u001b[0m \u001b[0;34m=\u001b[0m \u001b[0mnp\u001b[0m\u001b[0;34m.\u001b[0m\u001b[0margmin\u001b[0m\u001b[0;34m(\u001b[0m\u001b[0mcombinations_logRank_Pvalues\u001b[0m\u001b[0;34m)\u001b[0m\u001b[0;34m\u001b[0m\u001b[0;34m\u001b[0m\u001b[0m\n\u001b[0m\u001b[1;32m      2\u001b[0m \u001b[0mlowest_combination_significant_factors\u001b[0m \u001b[0;34m=\u001b[0m \u001b[0mcombinations_significant_factor_indexes\u001b[0m\u001b[0;34m[\u001b[0m\u001b[0mlowest_combination\u001b[0m\u001b[0;34m]\u001b[0m\u001b[0;34m\u001b[0m\u001b[0;34m\u001b[0m\u001b[0m\n\u001b[1;32m      3\u001b[0m \u001b[0mlowest_combination_p_value\u001b[0m \u001b[0;34m=\u001b[0m \u001b[0mcombinations_logRank_Pvalues\u001b[0m\u001b[0;34m[\u001b[0m\u001b[0mlowest_combination\u001b[0m\u001b[0;34m]\u001b[0m\u001b[0;34m\u001b[0m\u001b[0;34m\u001b[0m\u001b[0m\n\u001b[1;32m      4\u001b[0m \u001b[0mlowest_combination_significant_factors\u001b[0m\u001b[0;34m,\u001b[0m \u001b[0mlowest_combination_p_value\u001b[0m\u001b[0;34m\u001b[0m\u001b[0;34m\u001b[0m\u001b[0m\n",
      "\u001b[0;32m<__array_function__ internals>\u001b[0m in \u001b[0;36margmin\u001b[0;34m(*args, **kwargs)\u001b[0m\n",
      "\u001b[0;32m~/miniconda3/envs/lusc/lib/python3.9/site-packages/numpy/core/fromnumeric.py\u001b[0m in \u001b[0;36margmin\u001b[0;34m(a, axis, out)\u001b[0m\n\u001b[1;32m   1267\u001b[0m \u001b[0;34m\u001b[0m\u001b[0m\n\u001b[1;32m   1268\u001b[0m     \"\"\"\n\u001b[0;32m-> 1269\u001b[0;31m     \u001b[0;32mreturn\u001b[0m \u001b[0m_wrapfunc\u001b[0m\u001b[0;34m(\u001b[0m\u001b[0ma\u001b[0m\u001b[0;34m,\u001b[0m \u001b[0;34m'argmin'\u001b[0m\u001b[0;34m,\u001b[0m \u001b[0maxis\u001b[0m\u001b[0;34m=\u001b[0m\u001b[0maxis\u001b[0m\u001b[0;34m,\u001b[0m \u001b[0mout\u001b[0m\u001b[0;34m=\u001b[0m\u001b[0mout\u001b[0m\u001b[0;34m)\u001b[0m\u001b[0;34m\u001b[0m\u001b[0;34m\u001b[0m\u001b[0m\n\u001b[0m\u001b[1;32m   1270\u001b[0m \u001b[0;34m\u001b[0m\u001b[0m\n\u001b[1;32m   1271\u001b[0m \u001b[0;34m\u001b[0m\u001b[0m\n",
      "\u001b[0;32m~/miniconda3/envs/lusc/lib/python3.9/site-packages/numpy/core/fromnumeric.py\u001b[0m in \u001b[0;36m_wrapfunc\u001b[0;34m(obj, method, *args, **kwds)\u001b[0m\n\u001b[1;32m     53\u001b[0m     \u001b[0mbound\u001b[0m \u001b[0;34m=\u001b[0m \u001b[0mgetattr\u001b[0m\u001b[0;34m(\u001b[0m\u001b[0mobj\u001b[0m\u001b[0;34m,\u001b[0m \u001b[0mmethod\u001b[0m\u001b[0;34m,\u001b[0m \u001b[0;32mNone\u001b[0m\u001b[0;34m)\u001b[0m\u001b[0;34m\u001b[0m\u001b[0;34m\u001b[0m\u001b[0m\n\u001b[1;32m     54\u001b[0m     \u001b[0;32mif\u001b[0m \u001b[0mbound\u001b[0m \u001b[0;32mis\u001b[0m \u001b[0;32mNone\u001b[0m\u001b[0;34m:\u001b[0m\u001b[0;34m\u001b[0m\u001b[0;34m\u001b[0m\u001b[0m\n\u001b[0;32m---> 55\u001b[0;31m         \u001b[0;32mreturn\u001b[0m \u001b[0m_wrapit\u001b[0m\u001b[0;34m(\u001b[0m\u001b[0mobj\u001b[0m\u001b[0;34m,\u001b[0m \u001b[0mmethod\u001b[0m\u001b[0;34m,\u001b[0m \u001b[0;34m*\u001b[0m\u001b[0margs\u001b[0m\u001b[0;34m,\u001b[0m \u001b[0;34m**\u001b[0m\u001b[0mkwds\u001b[0m\u001b[0;34m)\u001b[0m\u001b[0;34m\u001b[0m\u001b[0;34m\u001b[0m\u001b[0m\n\u001b[0m\u001b[1;32m     56\u001b[0m \u001b[0;34m\u001b[0m\u001b[0m\n\u001b[1;32m     57\u001b[0m     \u001b[0;32mtry\u001b[0m\u001b[0;34m:\u001b[0m\u001b[0;34m\u001b[0m\u001b[0;34m\u001b[0m\u001b[0m\n",
      "\u001b[0;32m~/miniconda3/envs/lusc/lib/python3.9/site-packages/numpy/core/fromnumeric.py\u001b[0m in \u001b[0;36m_wrapit\u001b[0;34m(obj, method, *args, **kwds)\u001b[0m\n\u001b[1;32m     42\u001b[0m     \u001b[0;32mexcept\u001b[0m \u001b[0mAttributeError\u001b[0m\u001b[0;34m:\u001b[0m\u001b[0;34m\u001b[0m\u001b[0;34m\u001b[0m\u001b[0m\n\u001b[1;32m     43\u001b[0m         \u001b[0mwrap\u001b[0m \u001b[0;34m=\u001b[0m \u001b[0;32mNone\u001b[0m\u001b[0;34m\u001b[0m\u001b[0;34m\u001b[0m\u001b[0m\n\u001b[0;32m---> 44\u001b[0;31m     \u001b[0mresult\u001b[0m \u001b[0;34m=\u001b[0m \u001b[0mgetattr\u001b[0m\u001b[0;34m(\u001b[0m\u001b[0masarray\u001b[0m\u001b[0;34m(\u001b[0m\u001b[0mobj\u001b[0m\u001b[0;34m)\u001b[0m\u001b[0;34m,\u001b[0m \u001b[0mmethod\u001b[0m\u001b[0;34m)\u001b[0m\u001b[0;34m(\u001b[0m\u001b[0;34m*\u001b[0m\u001b[0margs\u001b[0m\u001b[0;34m,\u001b[0m \u001b[0;34m**\u001b[0m\u001b[0mkwds\u001b[0m\u001b[0;34m)\u001b[0m\u001b[0;34m\u001b[0m\u001b[0;34m\u001b[0m\u001b[0m\n\u001b[0m\u001b[1;32m     45\u001b[0m     \u001b[0;32mif\u001b[0m \u001b[0mwrap\u001b[0m\u001b[0;34m:\u001b[0m\u001b[0;34m\u001b[0m\u001b[0;34m\u001b[0m\u001b[0m\n\u001b[1;32m     46\u001b[0m         \u001b[0;32mif\u001b[0m \u001b[0;32mnot\u001b[0m \u001b[0misinstance\u001b[0m\u001b[0;34m(\u001b[0m\u001b[0mresult\u001b[0m\u001b[0;34m,\u001b[0m \u001b[0mmu\u001b[0m\u001b[0;34m.\u001b[0m\u001b[0mndarray\u001b[0m\u001b[0;34m)\u001b[0m\u001b[0;34m:\u001b[0m\u001b[0;34m\u001b[0m\u001b[0;34m\u001b[0m\u001b[0m\n",
      "\u001b[0;31mValueError\u001b[0m: attempt to get argmin of an empty sequence"
     ]
    }
   ],
   "source": [
    "lowest_combination = np.argmin(combinations_logRank_Pvalues)\n",
    "lowest_combination_significant_factors = combinations_significant_factor_indexes[lowest_combination]\n",
    "lowest_combination_p_value = combinations_logRank_Pvalues[lowest_combination]\n",
    "lowest_combination_significant_factors, lowest_combination_p_value"
   ]
  },
  {
   "cell_type": "markdown",
   "id": "a231b7b6",
   "metadata": {},
   "source": [
    "Get a dataframe with only the significant factors:"
   ]
  },
  {
   "cell_type": "code",
   "execution_count": null,
   "id": "20b80db1",
   "metadata": {},
   "outputs": [],
   "source": [
    "significant_factors = integrated_values[:,significant_factor_indexes]\n",
    "significant_factors"
   ]
  },
  {
   "cell_type": "code",
   "execution_count": null,
   "id": "336e241d",
   "metadata": {},
   "outputs": [],
   "source": [
    "n_components = 2\n",
    "df_plot = pd.DataFrame(dim_reduction(n_components).fit_transform(significant_factors), index=df_ae.index, columns=[dim_reduction_label.format(i) for i in range(n_components)])\n",
    "df_plot = df_plot.join(df_clin).join(subtypes[[\"cms_label\"]], how=\"left\")\n",
    "sns.scatterplot(data=df_plot, x=dim_reduction_label.format(0), y=dim_reduction_label.format(1), hue=\"observed\")\n",
    "plt.show()\n",
    "sns.scatterplot(data=df_plot[df_plot[\"observed\"]], x=dim_reduction_label.format(0), y=dim_reduction_label.format(1), hue=\"duration\")\n",
    "plt.show()\n",
    "sns.scatterplot(data=df_plot, x=dim_reduction_label.format(0), y=dim_reduction_label.format(1), hue=\"cms_label\")\n",
    "plt.show()\n",
    "df_plot"
   ]
  },
  {
   "cell_type": "code",
   "execution_count": null,
   "id": "615f8525",
   "metadata": {},
   "outputs": [],
   "source": [
    "comb_significant_factors = integrated_values[:,lowest_combination_significant_factors]\n",
    "comb_significant_factors"
   ]
  },
  {
   "cell_type": "code",
   "execution_count": null,
   "id": "fd0a7d65",
   "metadata": {},
   "outputs": [],
   "source": [
    "n_components = 2\n",
    "df_plot = pd.DataFrame(dim_reduction(n_components).fit_transform(comb_significant_factors), index=df_ae.index, columns=[dim_reduction_label.format(i) for i in range(n_components)])\n",
    "df_plot = df_plot.join(df_clin).join(subtypes[[\"cms_label\"]], how=\"left\")\n",
    "sns.scatterplot(data=df_plot, x=dim_reduction_label.format(0), y=dim_reduction_label.format(1), hue=\"observed\")\n",
    "plt.show()\n",
    "sns.scatterplot(data=df_plot[df_plot[\"observed\"]], x=dim_reduction_label.format(0), y=dim_reduction_label.format(1), hue=\"duration\")\n",
    "plt.show()\n",
    "sns.scatterplot(data=df_plot, x=dim_reduction_label.format(0), y=dim_reduction_label.format(1), hue=\"cms_label\")\n",
    "plt.show()\n",
    "df_plot"
   ]
  },
  {
   "cell_type": "markdown",
   "id": "1f0fb498",
   "metadata": {},
   "source": [
    "### Working Back Features from Factors"
   ]
  },
  {
   "cell_type": "markdown",
   "id": "7aba2977",
   "metadata": {},
   "source": [
    "To be done, but not strictly necessary since later in the pipeline we will extract the most significant features directly using the low/high risk separation."
   ]
  },
  {
   "cell_type": "code",
   "execution_count": null,
   "id": "48a0462f",
   "metadata": {},
   "outputs": [],
   "source": []
  },
  {
   "cell_type": "code",
   "execution_count": null,
   "id": "d50cd370",
   "metadata": {},
   "outputs": [],
   "source": []
  },
  {
   "cell_type": "markdown",
   "id": "81557e06",
   "metadata": {},
   "source": [
    "## Cluster Samples"
   ]
  },
  {
   "cell_type": "code",
   "execution_count": null,
   "id": "5b04d8f9",
   "metadata": {},
   "outputs": [],
   "source": [
    "for k in range(2,9):\n",
    "    kmeans = KMeans(k)\n",
    "    kmeans.fit(significant_factors)\n",
    "    labels = kmeans.labels_\n",
    "    silhouette = silhouette_score(factor_df, labels)\n",
    "    CH_score = calinski_harabasz_score(factor_df, labels)\n",
    "    print(\"k=\"+str(k))\n",
    "    print(\"Silhouette score:\", silhouette)\n",
    "    print(\"CH score\", CH_score)\n",
    "    print()"
   ]
  },
  {
   "cell_type": "markdown",
   "id": "ff765bee",
   "metadata": {},
   "source": [
    "Two clusters seem to be consistently better than any other number, so keep 2 clusters as the default and plot the survival curves of each, doing a logrank test to see if they are significantly different."
   ]
  },
  {
   "cell_type": "markdown",
   "id": "e308941d",
   "metadata": {},
   "source": [
    "Try making some clusters to see how varied the clustering can be over the significant factors:"
   ]
  },
  {
   "cell_type": "code",
   "execution_count": null,
   "id": "e5cb8c43",
   "metadata": {},
   "outputs": [],
   "source": [
    "number_of_clusters = 32\n",
    "clusters = []\n",
    "logrank_ps = []\n",
    "for i in range(number_of_clusters):\n",
    "    kmeans = KMeans(2).fit(significant_factors)\n",
    "    kmf_low, kmf_high, low_risk_samples, high_risk_samples = kmf_high_low(df_clin, kmeans.labels_)\n",
    "    # Compute the log-rank test P value between the 2 survival functions\n",
    "    results = lifelines.statistics.logrank_test(high_risk_samples[\"duration\"], low_risk_samples[\"duration\"],\n",
    "                           high_risk_samples[\"observed\"], low_risk_samples[\"observed\"])\n",
    "    clusters.append(kmeans)\n",
    "    logrank_ps.append(results.p_value)\n",
    "print(\"log-rank P values: \",logrank_ps)\n",
    "print(\"mean +/- std: {avg} +/- {std}\".format(avg=np.mean(logrank_ps), std=np.std(logrank_ps)))\n",
    "n_significant = sum((p<0.05 for p in logrank_ps))\n",
    "print(\"n_significant: {} ({:.2%})\".format(n_significant, n_significant/number_of_clusters))"
   ]
  },
  {
   "cell_type": "markdown",
   "id": "f8a287a3",
   "metadata": {},
   "source": [
    "Try making 16 different clusters with the integrated values to see what effect the Cox-PH model has on the survival curve."
   ]
  },
  {
   "cell_type": "code",
   "execution_count": null,
   "id": "6a4eef4e",
   "metadata": {},
   "outputs": [],
   "source": [
    "number_of_clusters = 32\n",
    "clusters = []\n",
    "logrank_ps = []\n",
    "for i in range(number_of_clusters):\n",
    "    kmeans = KMeans(2).fit(integrated_values)\n",
    "    kmf_low, kmf_high, low_risk_samples, high_risk_samples = kmf_high_low(df_clin, kmeans.labels_)\n",
    "    # Compute the log-rank test P value between the 2 survival functions\n",
    "    results = lifelines.statistics.logrank_test(high_risk_samples[\"duration\"], low_risk_samples[\"duration\"],\n",
    "                           high_risk_samples[\"observed\"], low_risk_samples[\"observed\"])\n",
    "    clusters.append(kmeans)\n",
    "    logrank_ps.append(results.p_value)\n",
    "print(\"log-rank P values: \",logrank_ps)\n",
    "print(\"mean +/- std: {avg} +/- {std}\".format(avg=np.mean(logrank_ps), std=np.std(logrank_ps)))\n",
    "n_significant = sum((p<0.05 for p in logrank_ps))\n",
    "print(\"n_significant: {} ({:.2%})\".format(n_significant, n_significant/number_of_clusters))"
   ]
  },
  {
   "cell_type": "markdown",
   "id": "62f24e20",
   "metadata": {},
   "source": [
    "Now do the same, but randomly selecting features for each cluster inversely proportionally to the amount of clusters we're building"
   ]
  },
  {
   "cell_type": "code",
   "execution_count": null,
   "id": "8f0c4a4e",
   "metadata": {},
   "outputs": [],
   "source": [
    "number_of_clusters = 32\n",
    "clusters = []\n",
    "logrank_ps = []\n",
    "for i in range(number_of_clusters):\n",
    "    kmeans = KMeans(2).fit(\n",
    "        integrated_values[\n",
    "            ...,\n",
    "            np.random.randint(\n",
    "                0,\n",
    "                integrated_values.shape[-1],\n",
    "                int(integrated_values.shape[-1]/(number_of_clusters*0.8))\n",
    "            )\n",
    "        ]\n",
    "    )\n",
    "    kmf_low, kmf_high, low_risk_samples, high_risk_samples = kmf_high_low(df_clin, kmeans.labels_)\n",
    "    # Compute the log-rank test P value between the 2 survival functions\n",
    "    results = lifelines.statistics.logrank_test(high_risk_samples[\"duration\"], low_risk_samples[\"duration\"],\n",
    "                           high_risk_samples[\"observed\"], low_risk_samples[\"observed\"])\n",
    "    clusters.append(kmeans)\n",
    "    logrank_ps.append(results.p_value)\n",
    "print(\"log-rank P values: \",logrank_ps)\n",
    "print(\"mean +/- std: {avg} +/- {std}\".format(avg=np.mean(logrank_ps), std=np.std(logrank_ps)))\n",
    "n_significant = sum((p<0.05 for p in logrank_ps))\n",
    "print(\"n_significant: {} ({:.2%})\".format(n_significant, n_significant/number_of_clusters))"
   ]
  },
  {
   "cell_type": "markdown",
   "id": "5d74d04f",
   "metadata": {},
   "source": [
    "Make one cluster with the significant factors and plot its survival curve and reduced dimensionality projections:"
   ]
  },
  {
   "cell_type": "code",
   "execution_count": null,
   "id": "6728fd48",
   "metadata": {},
   "outputs": [],
   "source": [
    "kmeans = KMeans(2).fit(significant_factors)\n",
    "kmf_low, kmf_high, low_risk_samples, high_risk_samples = kmf_high_low(df_clin, kmeans.labels_)\n",
    "# Compute the log-rank test P value between the 2 survival functions\n",
    "results = lifelines.statistics.logrank_test(high_risk_samples[\"duration\"], low_risk_samples[\"duration\"],\n",
    "                       high_risk_samples[\"observed\"], low_risk_samples[\"observed\"])\n",
    "print(\"log-rank P value:\",results.p_value)\n",
    "plt.figure(figsize=(15,10))\n",
    "ax = plt.gca()\n",
    "kmf_high.plot(show_censors=1, ci_show=1, color=\"r\", ax=ax)\n",
    "kmf_low.plot(show_censors=1, ci_show=1, color=\"g\", ax=ax)\n",
    "lifelines.plotting.add_at_risk_counts(kmf_high, kmf_low, ax=ax)"
   ]
  },
  {
   "cell_type": "code",
   "execution_count": null,
   "id": "4592f360",
   "metadata": {},
   "outputs": [],
   "source": [
    "n_components = 2\n",
    "df_plot = pd.DataFrame(dim_reduction(n_components).fit_transform(X_ae), index=df_ae.index, columns=[dim_reduction_label.format(i) for i in range(n_components)])\n",
    "df_plot = df_plot.join(df_clin).join(subtypes[[\"cms_label\"]], how=\"left\")\n",
    "df_plot[\"CLUSTER\"] = kmeans.labels_\n",
    "sns.scatterplot(data=df_plot, x=dim_reduction_label.format(0), y=dim_reduction_label.format(1), hue=\"CLUSTER\")\n",
    "plt.show()\n",
    "sns.scatterplot(data=df_plot[df_plot[\"observed\"]], x=dim_reduction_label.format(0), y=dim_reduction_label.format(1), hue=\"duration\")\n",
    "plt.show()\n",
    "sns.scatterplot(data=df_plot, x=dim_reduction_label.format(0), y=dim_reduction_label.format(1), hue=\"cms_label\")\n",
    "plt.show()\n",
    "df_plot"
   ]
  },
  {
   "cell_type": "markdown",
   "id": "8ab267d2",
   "metadata": {},
   "source": [
    "Make one cluster with the integrated values and plot its survival curve and reduced dimensionality projections:"
   ]
  },
  {
   "cell_type": "code",
   "execution_count": null,
   "id": "5a74843f",
   "metadata": {},
   "outputs": [],
   "source": [
    "kmeans = KMeans(2).fit(integrated_values)\n",
    "kmf_low, kmf_high, low_risk_samples, high_risk_samples = kmf_high_low(df_clin, kmeans.labels_)\n",
    "# Compute the log-rank test P value between the 2 survival functions\n",
    "results = lifelines.statistics.logrank_test(high_risk_samples[\"duration\"], low_risk_samples[\"duration\"],\n",
    "                       high_risk_samples[\"observed\"], low_risk_samples[\"observed\"])\n",
    "print(\"log-rank P value:\",results.p_value)\n",
    "plt.figure(figsize=(15,10))\n",
    "ax = plt.gca()\n",
    "kmf_high.plot(show_censors=1, ci_show=1, color=\"r\", ax=ax)\n",
    "kmf_low.plot(show_censors=1, ci_show=1, color=\"g\", ax=ax)\n",
    "lifelines.plotting.add_at_risk_counts(kmf_high, kmf_low, ax=ax)"
   ]
  },
  {
   "cell_type": "code",
   "execution_count": null,
   "id": "b61fed94",
   "metadata": {
    "scrolled": false
   },
   "outputs": [],
   "source": [
    "n_components = 2\n",
    "df_plot = pd.DataFrame(dim_reduction(n_components).fit_transform(X_ae), index=df_ae.index, columns=[dim_reduction_label.format(i) for i in range(n_components)])\n",
    "df_plot = df_plot.join(df_clin).join(subtypes[[\"cms_label\"]], how=\"left\")\n",
    "df_plot[\"CLUSTER\"] = kmeans.labels_\n",
    "sns.scatterplot(data=df_plot, x=dim_reduction_label.format(0), y=dim_reduction_label.format(1), hue=\"CLUSTER\")\n",
    "plt.show()\n",
    "sns.scatterplot(data=df_plot[df_plot[\"observed\"]], x=dim_reduction_label.format(0), y=dim_reduction_label.format(1), hue=\"duration\")\n",
    "plt.show()\n",
    "sns.scatterplot(data=df_plot, x=dim_reduction_label.format(0), y=dim_reduction_label.format(1), hue=\"cms_label\")\n",
    "plt.show()\n",
    "df_plot"
   ]
  },
  {
   "cell_type": "markdown",
   "id": "620ebaa9",
   "metadata": {},
   "source": [
    "Now do the same but with the factors that when combined have the lowest p value:"
   ]
  },
  {
   "cell_type": "code",
   "execution_count": null,
   "id": "037555ec",
   "metadata": {},
   "outputs": [],
   "source": [
    "number_of_clusters = 32\n",
    "clusters = []\n",
    "logrank_ps = []\n",
    "for i in range(number_of_clusters):\n",
    "    kmeans = KMeans(2).fit(comb_significant_factors)\n",
    "    kmf_low, kmf_high, low_risk_samples, high_risk_samples = kmf_high_low(df_clin, kmeans.labels_)\n",
    "    # Compute the log-rank test P value between the 2 survival functions\n",
    "    results = lifelines.statistics.logrank_test(high_risk_samples[\"duration\"], low_risk_samples[\"duration\"],\n",
    "                           high_risk_samples[\"observed\"], low_risk_samples[\"observed\"])\n",
    "    clusters.append(kmeans)\n",
    "    logrank_ps.append(results.p_value)\n",
    "print(\"log-rank P values: \",logrank_ps)\n",
    "print(\"mean +/- std: {avg} +/- {std}\".format(avg=np.mean(logrank_ps), std=np.std(logrank_ps)))\n",
    "n_significant = sum((p<0.05 for p in logrank_ps))\n",
    "print(\"n_significant: {} ({:.2%})\".format(n_significant, n_significant/number_of_clusters))"
   ]
  },
  {
   "cell_type": "markdown",
   "id": "a6ab54d3",
   "metadata": {},
   "source": [
    "Make one cluster with the best combination of significant factors and plot its survival curve and reduced dimensionality projections:"
   ]
  },
  {
   "cell_type": "code",
   "execution_count": null,
   "id": "dca1ec91",
   "metadata": {},
   "outputs": [],
   "source": [
    "kmeans = KMeans(2).fit(comb_significant_factors)\n",
    "kmf_low, kmf_high, low_risk_samples, high_risk_samples = kmf_high_low(df_clin, kmeans.labels_)\n",
    "# Compute the log-rank test P value between the 2 survival functions\n",
    "results = lifelines.statistics.logrank_test(high_risk_samples[\"duration\"], low_risk_samples[\"duration\"],\n",
    "                       high_risk_samples[\"observed\"], low_risk_samples[\"observed\"])\n",
    "print(\"log-rank P value:\",results.p_value)\n",
    "plt.figure(figsize=(15,10))\n",
    "ax = plt.gca()\n",
    "kmf_high.plot(show_censors=1, ci_show=1, color=\"r\", ax=ax)\n",
    "kmf_low.plot(show_censors=1, ci_show=1, color=\"g\", ax=ax)\n",
    "lifelines.plotting.add_at_risk_counts(kmf_high, kmf_low, ax=ax)"
   ]
  },
  {
   "cell_type": "code",
   "execution_count": null,
   "id": "ca6ceb87",
   "metadata": {},
   "outputs": [],
   "source": [
    "n_components = 2\n",
    "df_plot = pd.DataFrame(dim_reduction(n_components).fit_transform(X_ae), index=df_ae.index, columns=[dim_reduction_label.format(i) for i in range(n_components)])\n",
    "df_plot = df_plot.join(df_clin).join(subtypes[[\"cms_label\"]], how=\"left\")\n",
    "df_plot[\"CLUSTER\"] = kmeans.labels_\n",
    "sns.scatterplot(data=df_plot, x=dim_reduction_label.format(0), y=dim_reduction_label.format(1), hue=\"CLUSTER\")\n",
    "plt.show()\n",
    "sns.scatterplot(data=df_plot[df_plot[\"observed\"]], x=dim_reduction_label.format(0), y=dim_reduction_label.format(1), hue=\"duration\")\n",
    "plt.show()\n",
    "sns.scatterplot(data=df_plot, x=dim_reduction_label.format(0), y=dim_reduction_label.format(1), hue=\"cms_label\")\n",
    "plt.show()\n",
    "df_plot"
   ]
  },
  {
   "cell_type": "markdown",
   "id": "772ece32",
   "metadata": {},
   "source": [
    "Assign samples randomly just to see how it looks:"
   ]
  },
  {
   "cell_type": "code",
   "execution_count": null,
   "id": "53728ca5",
   "metadata": {},
   "outputs": [],
   "source": [
    "target_features = df_clin.copy()\n",
    "kmf_low, kmf_high, low_risk_samples, high_risk_samples = kmf_high_low(df_clin, np.random.choice([0,1], size=df_clin.shape[0]))\n",
    "# Compute the log-rank test P value between the 2 survival functions\n",
    "results = lifelines.statistics.logrank_test(high_risk_samples[\"duration\"], low_risk_samples[\"duration\"],\n",
    "                       high_risk_samples[\"observed\"], low_risk_samples[\"observed\"])\n",
    "print(\"log-rank P value:\",results.p_value)\n",
    "plt.figure(figsize=(15,10))\n",
    "ax = plt.gca()\n",
    "kmf_high.plot(show_censors=1, ci_show=1, color=\"r\", ax=ax)\n",
    "kmf_low.plot(show_censors=1, ci_show=1, color=\"g\", ax=ax)\n",
    "#lifelines.plotting.add_at_risk_counts(kmf_high, kmf_low, ax=ax)"
   ]
  },
  {
   "cell_type": "markdown",
   "id": "dbb3a84f",
   "metadata": {},
   "source": [
    "Set the clusters from the kmeans algorithm as the dataset labels for training in the next parts of the pipeline:"
   ]
  },
  {
   "cell_type": "code",
   "execution_count": null,
   "id": "dd1e471a",
   "metadata": {},
   "outputs": [],
   "source": [
    "target_features = df_clin.copy()\n",
    "target_features[\"Risk_subgroup\"] = kmeans.labels_\n",
    "target_features"
   ]
  },
  {
   "cell_type": "markdown",
   "id": "687c0855",
   "metadata": {},
   "source": [
    "## Feature Selection"
   ]
  },
  {
   "cell_type": "code",
   "execution_count": null,
   "id": "8fee99b8",
   "metadata": {},
   "outputs": [],
   "source": []
  },
  {
   "cell_type": "code",
   "execution_count": null,
   "id": "eecd4606",
   "metadata": {},
   "outputs": [],
   "source": []
  },
  {
   "cell_type": "code",
   "execution_count": null,
   "id": "3e882b50",
   "metadata": {},
   "outputs": [],
   "source": []
  },
  {
   "cell_type": "code",
   "execution_count": null,
   "id": "df71e73f",
   "metadata": {},
   "outputs": [],
   "source": []
  },
  {
   "cell_type": "code",
   "execution_count": null,
   "id": "46b79d7d",
   "metadata": {},
   "outputs": [],
   "source": []
  },
  {
   "cell_type": "markdown",
   "id": "7f331764",
   "metadata": {},
   "source": []
  },
  {
   "cell_type": "code",
   "execution_count": null,
   "id": "e813ccef",
   "metadata": {},
   "outputs": [],
   "source": []
  },
  {
   "cell_type": "markdown",
   "id": "7104aa76",
   "metadata": {},
   "source": [
    "## Training a Model for prediction survival"
   ]
  },
  {
   "cell_type": "code",
   "execution_count": null,
   "id": "549262d8",
   "metadata": {},
   "outputs": [],
   "source": []
  },
  {
   "cell_type": "markdown",
   "id": "0133753a",
   "metadata": {},
   "source": [
    "## External dataset validation"
   ]
  },
  {
   "cell_type": "code",
   "execution_count": null,
   "id": "5843c3c0",
   "metadata": {},
   "outputs": [],
   "source": []
  },
  {
   "cell_type": "markdown",
   "id": "023481df",
   "metadata": {},
   "source": [
    "## Discussion"
   ]
  },
  {
   "cell_type": "code",
   "execution_count": null,
   "id": "1acaee6e",
   "metadata": {},
   "outputs": [],
   "source": []
  },
  {
   "cell_type": "markdown",
   "id": "8e7fb881",
   "metadata": {},
   "source": [
    "## Next steps"
   ]
  },
  {
   "cell_type": "markdown",
   "id": "d16d18eb",
   "metadata": {},
   "source": [
    "Voting scheme\n",
    "FPKM/TPM\n",
    "Bioconductor workshops"
   ]
  }
 ],
 "metadata": {
  "kernelspec": {
   "display_name": "lusc",
   "language": "python",
   "name": "lusc"
  },
  "language_info": {
   "codemirror_mode": {
    "name": "ipython",
    "version": 3
   },
   "file_extension": ".py",
   "mimetype": "text/x-python",
   "name": "python",
   "nbconvert_exporter": "python",
   "pygments_lexer": "ipython3",
   "version": "3.9.7"
  }
 },
 "nbformat": 4,
 "nbformat_minor": 5
}
