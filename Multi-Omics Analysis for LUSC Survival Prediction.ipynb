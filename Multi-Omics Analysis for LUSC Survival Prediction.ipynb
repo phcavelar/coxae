{
 "cells": [
  {
   "cell_type": "markdown",
   "id": "bdcd2154",
   "metadata": {},
   "source": [
    "# Multi-Omics Analysis for LUSC Survival Prediction\n",
    "\n",
    "Bla\n",
    "\n"
   ]
  },
  {
   "cell_type": "code",
   "execution_count": null,
   "id": "fd39eea1",
   "metadata": {},
   "outputs": [],
   "source": []
  },
  {
   "cell_type": "markdown",
   "id": "7beb697f",
   "metadata": {},
   "source": [
    "## Imports and helper functions"
   ]
  },
  {
   "cell_type": "code",
   "execution_count": 1,
   "id": "9d474f26",
   "metadata": {},
   "outputs": [],
   "source": [
    "import os,shutil,io,json,glob,tarfile,requests\n",
    "import functools\n",
    "\n",
    "import numpy as np\n",
    "import pandas as pd\n",
    "import torch\n",
    "import matplotlib.pyplot as plt\n",
    "import seaborn as sns\n",
    "import lifelines\n",
    "\n",
    "from pypgatk.cgenomes.cbioportal_downloader import CbioPortalDownloadService"
   ]
  },
  {
   "cell_type": "code",
   "execution_count": 2,
   "id": "2416c796",
   "metadata": {},
   "outputs": [],
   "source": [
    "def untar_study(study, output_directory, fmt=\".tar.gz\"):\n",
    "    file = tarfile.open(\n",
    "        os.path.join(\n",
    "            output_directory,\n",
    "            \"{study}{format}\".format(study=study, format=fmt)\n",
    "            )\n",
    "        )\n",
    "    file.extractall(output_directory)\n",
    "    file.close()"
   ]
  },
  {
   "cell_type": "code",
   "execution_count": 3,
   "id": "9b9b54e7",
   "metadata": {},
   "outputs": [],
   "source": [
    "def download_cbioportal_study(\n",
    "        config_file,\n",
    "        study,\n",
    "        output_directory = \"./data\",\n",
    "        list_studies = False,\n",
    "        multithreading = True,\n",
    "        **kwargs\n",
    "        ):\n",
    "    pipeline_arguments = {\n",
    "        CbioPortalDownloadService.CONFIG_OUTPUT_DIRECTORY: output_directory,\n",
    "        CbioPortalDownloadService.CONFIG_LIST_STUDIES: list_studies,\n",
    "        CbioPortalDownloadService.CONFIG_MULTITHREADING: multithreading,\n",
    "        **kwargs,\n",
    "    } \n",
    "    cbioportal_downloader_service = CbioPortalDownloadService(config_file, pipeline_arguments)\n",
    "    cbioportal_downloader_service.download_study(study)"
   ]
  },
  {
   "cell_type": "code",
   "execution_count": 4,
   "id": "d6d6c9e8",
   "metadata": {},
   "outputs": [],
   "source": [
    "def get_mirna_files(\n",
    "        project_id=\"TCGA-LUSC\",\n",
    "        maxfiles=10000\n",
    "        ):\n",
    "\n",
    "    cases_endpt = \"https://api.gdc.cancer.gov/files\"\n",
    "    data_endpt = \"https://api.gdc.cancer.gov/data\"\n",
    "\n",
    "    # Retrieve associated file names\n",
    "    filters = {\n",
    "        \"op\": \"and\",\n",
    "        \"content\":[\n",
    "            {\"op\": \"=\",\n",
    "            \"content\":{\n",
    "                \"field\": \"cases.project.project_id\",\n",
    "                \"value\": [\"TCGA-LUSC\"]\n",
    "                }\n",
    "            },\n",
    "            {\"op\": \"=\",\n",
    "            \"content\":{\n",
    "                \"field\": \"files.experimental_strategy\",\n",
    "                \"value\": [\"miRNA-Seq\"]\n",
    "                }\n",
    "            },\n",
    "            {\"op\": \"=\",\n",
    "            \"content\":{\n",
    "                \"field\": \"files.data_category\",\n",
    "                \"value\": [\"Transcriptome Profiling\"]\n",
    "                }\n",
    "            },\n",
    "            {\"op\": \"=\",\n",
    "            \"content\":{\n",
    "                \"field\": \"files.data_type\",\n",
    "                \"value\": [\"miRNA Expression Quantification\"]\n",
    "                }\n",
    "            }\n",
    "        ]\n",
    "    }\n",
    "\n",
    "    params = {\n",
    "        \"filters\": json.dumps(filters),\n",
    "        \"fields\": \",\".join([\"cases.submitter_id\",\"file_name\"]),\n",
    "        \"format\": \"TSV\",\n",
    "        \"size\": str(maxfiles)\n",
    "    }\n",
    "\n",
    "    response = requests.get(cases_endpt, params = params)\n",
    "    files_df = pd.read_csv(io.StringIO(response.text), sep=\"\\t\")\n",
    "    return files_df\n",
    "\n",
    "def download_mirna_files(\n",
    "        files_df,\n",
    "        output_directory = \"./data\",\n",
    "        project_id=\"TCGA-LUSC\",\n",
    "        maxfiles=10000\n",
    "        ):\n",
    "    \n",
    "    params = {\"ids\": files_df[\"id\"].tolist()}\n",
    "\n",
    "    response = requests.post(data_endpt,\n",
    "                            data = json.dumps(params),\n",
    "                            headers={\n",
    "                                \"Content-Type\": \"application/json\"\n",
    "                                })\n",
    "\n",
    "    response_head_cd = response.headers[\"Content-Disposition\"]\n",
    "    file_name = re.findall(\"filename=(.+)\", response_head_cd)[0]\n",
    "    with open(os.path.join(output_directory, file_name), \"wb\") as output_file:\n",
    "        output_file.write(response.content)\n",
    "    return file_name"
   ]
  },
  {
   "cell_type": "code",
   "execution_count": 5,
   "id": "360aed6c",
   "metadata": {},
   "outputs": [],
   "source": [
    "def untar_and_merge_mirna_files(\n",
    "        files_df,\n",
    "        file_name,\n",
    "        output_directory = \"./data\",\n",
    "        cleanup=True\n",
    "        ):\n",
    "    untar_study(file_name, output_directory, fmt=\"\")\n",
    "    \n",
    "    miRNA_IDs = set()\n",
    "    patient_dfs = {}\n",
    "    patient_folders = []\n",
    "    for i in range(len(files_df)):\n",
    "        patient_id = files_df[\"cases.0.submitter_id\"].iloc[i]\n",
    "        foldername = files_df[\"id\"].iloc[i]\n",
    "        patient_fname = os.listdir(os.path.join(output_directory, foldername))[0]\n",
    "        patient_df = pd.read_csv(os.path.join(output_directory, foldername, patient_fname), sep=\"\\t\")\n",
    "        \n",
    "        miRNA_IDs.update(patient_df[\"miRNA_ID\"].tolist())\n",
    "        patient_dfs[patient_id] = patient_df\n",
    "        patient_folders.append(foldername)\n",
    "    \n",
    "    miRNA_df = pd.DataFrame({\"patient_id\":[], **{k:[] for k in miRNA_IDs}}).set_index(\"patient_id\")\n",
    "    for patient_id in patient_dfs:\n",
    "        patient_df = patient_dfs[patient_id]\n",
    "        patient_id = \"{}-01\".format(patient_id) # This line is to match cBioPortal's format\n",
    "        transposed_patient_df = patient_df[[\"miRNA_ID\",\"reads_per_million_miRNA_mapped\"]].set_index(\"miRNA_ID\").transpose()\n",
    "        transposed_patient_df[\"patient_id\"] = [patient_id]\n",
    "        transposed_patient_df = transposed_patient_df.set_index(\"patient_id\")\n",
    "        miRNA_df.loc[patient_id,miRNA_df.columns] = transposed_patient_df[miRNA_df.columns].values.flatten()\n",
    "        \n",
    "    if cleanup:\n",
    "        for patient_folder in patient_folders:\n",
    "            shutil.rmtree(os.path.join(output_directory, patient_folder))\n",
    "    \n",
    "    return miRNA_df"
   ]
  },
  {
   "cell_type": "code",
   "execution_count": 6,
   "id": "415ce683",
   "metadata": {},
   "outputs": [],
   "source": [
    "def remove_constant_columns(df):\n",
    "    columns_to_remove = []\n",
    "    for idx, column in enumerate(df.columns):\n",
    "        try:\n",
    "            if (df[column].std() == 0).any():\n",
    "                columns_to_remove.append(column)\n",
    "        except KeyError:\n",
    "            columns_to_remove.append(column)\n",
    "    return df.drop(columns=columns_to_remove)"
   ]
  },
  {
   "cell_type": "markdown",
   "id": "034b47e0",
   "metadata": {},
   "source": [
    "## Data Acquisition and Pre-Processing"
   ]
  },
  {
   "cell_type": "markdown",
   "id": "ae9ea865",
   "metadata": {},
   "source": [
    "### Acquiring data from cBioPortal"
   ]
  },
  {
   "cell_type": "code",
   "execution_count": 7,
   "id": "19c30701",
   "metadata": {},
   "outputs": [],
   "source": [
    "cbioportal_config = \"./config/cbioportal_config.yaml\"\n",
    "data_directory = \"./data\"\n",
    "study_name = \"lusc_tcga\""
   ]
  },
  {
   "cell_type": "code",
   "execution_count": 8,
   "id": "f6c5d84c",
   "metadata": {},
   "outputs": [],
   "source": [
    "download_cbioportal_study(cbioportal_config, study_name, data_directory)"
   ]
  },
  {
   "cell_type": "code",
   "execution_count": 9,
   "id": "3db1db53",
   "metadata": {},
   "outputs": [],
   "source": [
    "untar_study(study_name, data_directory, fmt=\".tar\")"
   ]
  },
  {
   "cell_type": "code",
   "execution_count": 10,
   "id": "7eed1c92",
   "metadata": {},
   "outputs": [
    {
     "data": {
      "text/html": [
       "<div>\n",
       "<style scoped>\n",
       "    .dataframe tbody tr th:only-of-type {\n",
       "        vertical-align: middle;\n",
       "    }\n",
       "\n",
       "    .dataframe tbody tr th {\n",
       "        vertical-align: top;\n",
       "    }\n",
       "\n",
       "    .dataframe thead th {\n",
       "        text-align: right;\n",
       "    }\n",
       "</style>\n",
       "<table border=\"1\" class=\"dataframe\">\n",
       "  <thead>\n",
       "    <tr style=\"text-align: right;\">\n",
       "      <th></th>\n",
       "      <th>FORM_COMPLETION_DATE</th>\n",
       "      <th>HISTOLOGICAL_DIAGNOSIS</th>\n",
       "      <th>PROSPECTIVE_COLLECTION</th>\n",
       "      <th>RETROSPECTIVE_COLLECTION</th>\n",
       "      <th>SEX</th>\n",
       "      <th>RACE</th>\n",
       "      <th>ETHNICITY</th>\n",
       "      <th>LATERALITY</th>\n",
       "      <th>HISTORY_OTHER_MALIGNANCY</th>\n",
       "      <th>PRIMARY_SITE_PATIENT</th>\n",
       "      <th>...</th>\n",
       "      <th>POS_LYMPH_NODE_LOCATION</th>\n",
       "      <th>PROJECT_CODE</th>\n",
       "      <th>STAGE_OTHER</th>\n",
       "      <th>TARGETED_MOLECULAR_THERAPY</th>\n",
       "      <th>TISSUE_SOURCE_SITE</th>\n",
       "      <th>SITE_OF_TUMOR_TISSUE</th>\n",
       "      <th>OS_STATUS</th>\n",
       "      <th>OS_MONTHS</th>\n",
       "      <th>DFS_STATUS</th>\n",
       "      <th>DFS_MONTHS</th>\n",
       "    </tr>\n",
       "  </thead>\n",
       "  <tbody>\n",
       "    <tr>\n",
       "      <th>count</th>\n",
       "      <td>504</td>\n",
       "      <td>504</td>\n",
       "      <td>504</td>\n",
       "      <td>504</td>\n",
       "      <td>504</td>\n",
       "      <td>504</td>\n",
       "      <td>504</td>\n",
       "      <td>504</td>\n",
       "      <td>504</td>\n",
       "      <td>504</td>\n",
       "      <td>...</td>\n",
       "      <td>504</td>\n",
       "      <td>504</td>\n",
       "      <td>504</td>\n",
       "      <td>504</td>\n",
       "      <td>504</td>\n",
       "      <td>504</td>\n",
       "      <td>504</td>\n",
       "      <td>504</td>\n",
       "      <td>504</td>\n",
       "      <td>504</td>\n",
       "    </tr>\n",
       "    <tr>\n",
       "      <th>unique</th>\n",
       "      <td>199</td>\n",
       "      <td>1</td>\n",
       "      <td>3</td>\n",
       "      <td>3</td>\n",
       "      <td>2</td>\n",
       "      <td>4</td>\n",
       "      <td>3</td>\n",
       "      <td>1</td>\n",
       "      <td>5</td>\n",
       "      <td>9</td>\n",
       "      <td>...</td>\n",
       "      <td>1</td>\n",
       "      <td>1</td>\n",
       "      <td>1</td>\n",
       "      <td>3</td>\n",
       "      <td>35</td>\n",
       "      <td>1</td>\n",
       "      <td>2</td>\n",
       "      <td>439</td>\n",
       "      <td>3</td>\n",
       "      <td>328</td>\n",
       "    </tr>\n",
       "    <tr>\n",
       "      <th>top</th>\n",
       "      <td>3/7/11</td>\n",
       "      <td>Lung Squamous Cell Carcinoma</td>\n",
       "      <td>NO</td>\n",
       "      <td>YES</td>\n",
       "      <td>Male</td>\n",
       "      <td>WHITE</td>\n",
       "      <td>NOT HISPANIC OR LATINO</td>\n",
       "      <td>[Not Available]</td>\n",
       "      <td>No</td>\n",
       "      <td>L-Upper</td>\n",
       "      <td>...</td>\n",
       "      <td>[Not Available]</td>\n",
       "      <td>[Not Available]</td>\n",
       "      <td>[Not Available]</td>\n",
       "      <td>[Not Available]</td>\n",
       "      <td>85</td>\n",
       "      <td>Lung</td>\n",
       "      <td>0:LIVING</td>\n",
       "      <td>2</td>\n",
       "      <td>0:DiseaseFree</td>\n",
       "      <td>[Not Available]</td>\n",
       "    </tr>\n",
       "    <tr>\n",
       "      <th>freq</th>\n",
       "      <td>39</td>\n",
       "      <td>504</td>\n",
       "      <td>326</td>\n",
       "      <td>326</td>\n",
       "      <td>373</td>\n",
       "      <td>351</td>\n",
       "      <td>319</td>\n",
       "      <td>504</td>\n",
       "      <td>433</td>\n",
       "      <td>137</td>\n",
       "      <td>...</td>\n",
       "      <td>504</td>\n",
       "      <td>504</td>\n",
       "      <td>504</td>\n",
       "      <td>350</td>\n",
       "      <td>50</td>\n",
       "      <td>504</td>\n",
       "      <td>284</td>\n",
       "      <td>8</td>\n",
       "      <td>245</td>\n",
       "      <td>127</td>\n",
       "    </tr>\n",
       "  </tbody>\n",
       "</table>\n",
       "<p>4 rows × 77 columns</p>\n",
       "</div>"
      ],
      "text/plain": [
       "       FORM_COMPLETION_DATE        HISTOLOGICAL_DIAGNOSIS  \\\n",
       "count                   504                           504   \n",
       "unique                  199                             1   \n",
       "top                  3/7/11  Lung Squamous Cell Carcinoma   \n",
       "freq                     39                           504   \n",
       "\n",
       "       PROSPECTIVE_COLLECTION RETROSPECTIVE_COLLECTION   SEX   RACE  \\\n",
       "count                     504                      504   504    504   \n",
       "unique                      3                        3     2      4   \n",
       "top                        NO                      YES  Male  WHITE   \n",
       "freq                      326                      326   373    351   \n",
       "\n",
       "                     ETHNICITY       LATERALITY HISTORY_OTHER_MALIGNANCY  \\\n",
       "count                      504              504                      504   \n",
       "unique                       3                1                        5   \n",
       "top     NOT HISPANIC OR LATINO  [Not Available]                       No   \n",
       "freq                       319              504                      433   \n",
       "\n",
       "       PRIMARY_SITE_PATIENT  ... POS_LYMPH_NODE_LOCATION     PROJECT_CODE  \\\n",
       "count                   504  ...                     504              504   \n",
       "unique                    9  ...                       1                1   \n",
       "top                 L-Upper  ...         [Not Available]  [Not Available]   \n",
       "freq                    137  ...                     504              504   \n",
       "\n",
       "            STAGE_OTHER TARGETED_MOLECULAR_THERAPY TISSUE_SOURCE_SITE  \\\n",
       "count               504                        504                504   \n",
       "unique                1                          3                 35   \n",
       "top     [Not Available]            [Not Available]                 85   \n",
       "freq                504                        350                 50   \n",
       "\n",
       "       SITE_OF_TUMOR_TISSUE OS_STATUS OS_MONTHS     DFS_STATUS  \\\n",
       "count                   504       504       504            504   \n",
       "unique                    1         2       439              3   \n",
       "top                    Lung  0:LIVING         2  0:DiseaseFree   \n",
       "freq                    504       284         8            245   \n",
       "\n",
       "             DFS_MONTHS  \n",
       "count               504  \n",
       "unique              328  \n",
       "top     [Not Available]  \n",
       "freq                127  \n",
       "\n",
       "[4 rows x 77 columns]"
      ]
     },
     "execution_count": 10,
     "metadata": {},
     "output_type": "execute_result"
    }
   ],
   "source": [
    "clinical_data = pd.read_csv(os.path.join(data_directory, study_name, \"data_bcr_clinical_data_patient.txt\"), comment=\"#\", sep=\"\\t\").set_index(\"PATIENT_ID\").drop(columns=\"OTHER_PATIENT_ID\")\n",
    "clinical_data.describe()"
   ]
  },
  {
   "cell_type": "code",
   "execution_count": 11,
   "id": "6d8f41f4",
   "metadata": {},
   "outputs": [],
   "source": [
    "# Drop unused columns\n",
    "clinical_data = clinical_data[[\"OS_STATUS\", \"OS_MONTHS\", \"DFS_STATUS\", \"DFS_MONTHS\"]]\n",
    "# Add a binary column with the status\n",
    "clinical_data[\"OS_STATUS_B\"] = clinical_data[\"OS_STATUS\"]==\"1:DECEASED\"\n",
    "clinical_data[\"OS_MONTHS\"] = pd.to_numeric(clinical_data[\"OS_MONTHS\"], errors=\"coerce\")\n",
    "clinical_data = clinical_data.dropna()"
   ]
  },
  {
   "cell_type": "code",
   "execution_count": 12,
   "id": "a772422d",
   "metadata": {},
   "outputs": [
    {
     "data": {
      "text/html": [
       "<div>\n",
       "<style scoped>\n",
       "    .dataframe tbody tr th:only-of-type {\n",
       "        vertical-align: middle;\n",
       "    }\n",
       "\n",
       "    .dataframe tbody tr th {\n",
       "        vertical-align: top;\n",
       "    }\n",
       "\n",
       "    .dataframe thead th {\n",
       "        text-align: right;\n",
       "    }\n",
       "</style>\n",
       "<table border=\"1\" class=\"dataframe\">\n",
       "  <thead>\n",
       "    <tr style=\"text-align: right;\">\n",
       "      <th></th>\n",
       "      <th>OS_STATUS</th>\n",
       "      <th>OS_MONTHS</th>\n",
       "      <th>DFS_STATUS</th>\n",
       "      <th>DFS_MONTHS</th>\n",
       "      <th>OS_STATUS_B</th>\n",
       "    </tr>\n",
       "    <tr>\n",
       "      <th>PATIENT_ID</th>\n",
       "      <th></th>\n",
       "      <th></th>\n",
       "      <th></th>\n",
       "      <th></th>\n",
       "      <th></th>\n",
       "    </tr>\n",
       "  </thead>\n",
       "  <tbody>\n",
       "    <tr>\n",
       "      <th>TCGA-18-3409</th>\n",
       "      <td>0:LIVING</td>\n",
       "      <td>123.09</td>\n",
       "      <td>1:Recurred/Progressed</td>\n",
       "      <td>75.26</td>\n",
       "      <td>False</td>\n",
       "    </tr>\n",
       "    <tr>\n",
       "      <th>TCGA-18-3411</th>\n",
       "      <td>0:LIVING</td>\n",
       "      <td>117.48</td>\n",
       "      <td>0:DiseaseFree</td>\n",
       "      <td>117.48</td>\n",
       "      <td>False</td>\n",
       "    </tr>\n",
       "    <tr>\n",
       "      <th>TCGA-18-3419</th>\n",
       "      <td>0:LIVING</td>\n",
       "      <td>92.35</td>\n",
       "      <td>0:DiseaseFree</td>\n",
       "      <td>92.35</td>\n",
       "      <td>False</td>\n",
       "    </tr>\n",
       "    <tr>\n",
       "      <th>TCGA-18-3421</th>\n",
       "      <td>0:LIVING</td>\n",
       "      <td>86.89</td>\n",
       "      <td>0:DiseaseFree</td>\n",
       "      <td>86.89</td>\n",
       "      <td>False</td>\n",
       "    </tr>\n",
       "    <tr>\n",
       "      <th>TCGA-18-4721</th>\n",
       "      <td>0:LIVING</td>\n",
       "      <td>154.20</td>\n",
       "      <td>0:DiseaseFree</td>\n",
       "      <td>154.2</td>\n",
       "      <td>False</td>\n",
       "    </tr>\n",
       "    <tr>\n",
       "      <th>...</th>\n",
       "      <td>...</td>\n",
       "      <td>...</td>\n",
       "      <td>...</td>\n",
       "      <td>...</td>\n",
       "      <td>...</td>\n",
       "    </tr>\n",
       "    <tr>\n",
       "      <th>TCGA-NK-A5CR</th>\n",
       "      <td>0:LIVING</td>\n",
       "      <td>83.51</td>\n",
       "      <td>0:DiseaseFree</td>\n",
       "      <td>83.51</td>\n",
       "      <td>False</td>\n",
       "    </tr>\n",
       "    <tr>\n",
       "      <th>TCGA-NK-A5CT</th>\n",
       "      <td>0:LIVING</td>\n",
       "      <td>65.60</td>\n",
       "      <td>1:Recurred/Progressed</td>\n",
       "      <td>65.37</td>\n",
       "      <td>False</td>\n",
       "    </tr>\n",
       "    <tr>\n",
       "      <th>TCGA-NK-A5CX</th>\n",
       "      <td>0:LIVING</td>\n",
       "      <td>3.65</td>\n",
       "      <td>0:DiseaseFree</td>\n",
       "      <td>3.65</td>\n",
       "      <td>False</td>\n",
       "    </tr>\n",
       "    <tr>\n",
       "      <th>TCGA-NK-A5D1</th>\n",
       "      <td>0:LIVING</td>\n",
       "      <td>16.79</td>\n",
       "      <td>1:Recurred/Progressed</td>\n",
       "      <td>5.22</td>\n",
       "      <td>False</td>\n",
       "    </tr>\n",
       "    <tr>\n",
       "      <th>TCGA-NK-A7XE</th>\n",
       "      <td>0:LIVING</td>\n",
       "      <td>0.43</td>\n",
       "      <td>0:DiseaseFree</td>\n",
       "      <td>0.43</td>\n",
       "      <td>False</td>\n",
       "    </tr>\n",
       "  </tbody>\n",
       "</table>\n",
       "<p>283 rows × 5 columns</p>\n",
       "</div>"
      ],
      "text/plain": [
       "             OS_STATUS  OS_MONTHS             DFS_STATUS DFS_MONTHS  \\\n",
       "PATIENT_ID                                                            \n",
       "TCGA-18-3409  0:LIVING     123.09  1:Recurred/Progressed      75.26   \n",
       "TCGA-18-3411  0:LIVING     117.48          0:DiseaseFree     117.48   \n",
       "TCGA-18-3419  0:LIVING      92.35          0:DiseaseFree      92.35   \n",
       "TCGA-18-3421  0:LIVING      86.89          0:DiseaseFree      86.89   \n",
       "TCGA-18-4721  0:LIVING     154.20          0:DiseaseFree      154.2   \n",
       "...                ...        ...                    ...        ...   \n",
       "TCGA-NK-A5CR  0:LIVING      83.51          0:DiseaseFree      83.51   \n",
       "TCGA-NK-A5CT  0:LIVING      65.60  1:Recurred/Progressed      65.37   \n",
       "TCGA-NK-A5CX  0:LIVING       3.65          0:DiseaseFree       3.65   \n",
       "TCGA-NK-A5D1  0:LIVING      16.79  1:Recurred/Progressed       5.22   \n",
       "TCGA-NK-A7XE  0:LIVING       0.43          0:DiseaseFree       0.43   \n",
       "\n",
       "              OS_STATUS_B  \n",
       "PATIENT_ID                 \n",
       "TCGA-18-3409        False  \n",
       "TCGA-18-3411        False  \n",
       "TCGA-18-3419        False  \n",
       "TCGA-18-3421        False  \n",
       "TCGA-18-4721        False  \n",
       "...                   ...  \n",
       "TCGA-NK-A5CR        False  \n",
       "TCGA-NK-A5CT        False  \n",
       "TCGA-NK-A5CX        False  \n",
       "TCGA-NK-A5D1        False  \n",
       "TCGA-NK-A7XE        False  \n",
       "\n",
       "[283 rows x 5 columns]"
      ]
     },
     "execution_count": 12,
     "metadata": {},
     "output_type": "execute_result"
    }
   ],
   "source": [
    "clinical_data[np.logical_not(clinical_data[\"OS_STATUS_B\"])]"
   ]
  },
  {
   "cell_type": "code",
   "execution_count": 13,
   "id": "1cd70339",
   "metadata": {},
   "outputs": [
    {
     "data": {
      "text/html": [
       "<div>\n",
       "<style scoped>\n",
       "    .dataframe tbody tr th:only-of-type {\n",
       "        vertical-align: middle;\n",
       "    }\n",
       "\n",
       "    .dataframe tbody tr th {\n",
       "        vertical-align: top;\n",
       "    }\n",
       "\n",
       "    .dataframe thead th {\n",
       "        text-align: right;\n",
       "    }\n",
       "</style>\n",
       "<table border=\"1\" class=\"dataframe\">\n",
       "  <thead>\n",
       "    <tr style=\"text-align: right;\">\n",
       "      <th></th>\n",
       "      <th>OS_MONTHS</th>\n",
       "    </tr>\n",
       "  </thead>\n",
       "  <tbody>\n",
       "    <tr>\n",
       "      <th>count</th>\n",
       "      <td>498.000000</td>\n",
       "    </tr>\n",
       "    <tr>\n",
       "      <th>mean</th>\n",
       "      <td>31.949920</td>\n",
       "    </tr>\n",
       "    <tr>\n",
       "      <th>std</th>\n",
       "      <td>31.603341</td>\n",
       "    </tr>\n",
       "    <tr>\n",
       "      <th>min</th>\n",
       "      <td>0.000000</td>\n",
       "    </tr>\n",
       "    <tr>\n",
       "      <th>25%</th>\n",
       "      <td>10.682500</td>\n",
       "    </tr>\n",
       "    <tr>\n",
       "      <th>50%</th>\n",
       "      <td>21.895000</td>\n",
       "    </tr>\n",
       "    <tr>\n",
       "      <th>75%</th>\n",
       "      <td>41.382500</td>\n",
       "    </tr>\n",
       "    <tr>\n",
       "      <th>max</th>\n",
       "      <td>173.690000</td>\n",
       "    </tr>\n",
       "  </tbody>\n",
       "</table>\n",
       "</div>"
      ],
      "text/plain": [
       "        OS_MONTHS\n",
       "count  498.000000\n",
       "mean    31.949920\n",
       "std     31.603341\n",
       "min      0.000000\n",
       "25%     10.682500\n",
       "50%     21.895000\n",
       "75%     41.382500\n",
       "max    173.690000"
      ]
     },
     "execution_count": 13,
     "metadata": {},
     "output_type": "execute_result"
    }
   ],
   "source": [
    "clinical_data.describe()"
   ]
  },
  {
   "cell_type": "code",
   "execution_count": 14,
   "id": "0994848b",
   "metadata": {},
   "outputs": [
    {
     "data": {
      "text/plain": [
       "<AxesSubplot:xlabel='timeline'>"
      ]
     },
     "execution_count": 14,
     "metadata": {},
     "output_type": "execute_result"
    },
    {
     "data": {
      "image/png": "[encoded data removed]",
      "text/plain": [
       "<Figure size 1080x504 with 1 Axes>"
      ]
     },
     "metadata": {
      "needs_background": "light"
     },
     "output_type": "display_data"
    }
   ],
   "source": [
    "kmf = lifelines.KaplanMeierFitter(label=\"Overall Survival\")\n",
    "kmf.fit(durations=clinical_data[\"OS_MONTHS\"],\n",
    "        event_observed=clinical_data[\"OS_STATUS_B\"])\n",
    "plt.figure(figsize=(15,7))\n",
    "kmf.plot(show_censors=1, ci_show=1)"
   ]
  },
  {
   "cell_type": "code",
   "execution_count": 15,
   "id": "3773af66",
   "metadata": {},
   "outputs": [
    {
     "data": {
      "text/plain": [
       "(20531, 24776, 16714)"
      ]
     },
     "execution_count": 15,
     "metadata": {},
     "output_type": "execute_result"
    }
   ],
   "source": [
    "RNAseq = pd.read_csv(os.path.join(data_directory, study_name, \"data_RNA_Seq_v2_expression_median.txt\"), comment=\"#\", sep=\"\\t\").set_index(\"Hugo_Symbol\").drop(columns=\"Entrez_Gene_Id\")\n",
    "linearCNA = pd.read_csv(os.path.join(data_directory, study_name, \"data_linear_CNA.txt\"), comment=\"#\", sep=\"\\t\").set_index(\"Hugo_Symbol\").drop(columns=\"Entrez_Gene_Id\")\n",
    "methylation_hm450 = pd.read_csv(os.path.join(data_directory, study_name, \"data_methylation_hm450.txt\"), comment=\"#\", sep=\"\\t\").set_index(\"Hugo_Symbol\").drop(columns=\"Entrez_Gene_Id\")\n",
    "\n",
    "len(RNAseq), len(linearCNA), len(methylation_hm450)"
   ]
  },
  {
   "cell_type": "markdown",
   "id": "905d8169",
   "metadata": {},
   "source": [
    "Remove any constant columns"
   ]
  },
  {
   "cell_type": "code",
   "execution_count": 16,
   "id": "18c2fcd9",
   "metadata": {},
   "outputs": [
    {
     "data": {
      "text/plain": [
       "(20242, 24776, 16714)"
      ]
     },
     "execution_count": 16,
     "metadata": {},
     "output_type": "execute_result"
    }
   ],
   "source": [
    "RNAseq_t = remove_constant_columns(RNAseq.transpose())\n",
    "RNAseq = RNAseq_t.transpose()\n",
    "linearCNA_t = remove_constant_columns(linearCNA.transpose())\n",
    "linearCNA = linearCNA_t.transpose()\n",
    "methylation_hm450_t = remove_constant_columns(methylation_hm450.transpose())\n",
    "methylation_hm450 = methylation_hm450_t.transpose()\n",
    "\n",
    "len(RNAseq), len(linearCNA), len(methylation_hm450)"
   ]
  },
  {
   "cell_type": "markdown",
   "id": "454dcc19",
   "metadata": {},
   "source": [
    "### miRNA data from gdc.cancer.gov"
   ]
  },
  {
   "cell_type": "code",
   "execution_count": 17,
   "id": "66b5151e",
   "metadata": {},
   "outputs": [
    {
     "data": {
      "text/html": [
       "<div>\n",
       "<style scoped>\n",
       "    .dataframe tbody tr th:only-of-type {\n",
       "        vertical-align: middle;\n",
       "    }\n",
       "\n",
       "    .dataframe tbody tr th {\n",
       "        vertical-align: top;\n",
       "    }\n",
       "\n",
       "    .dataframe thead th {\n",
       "        text-align: right;\n",
       "    }\n",
       "</style>\n",
       "<table border=\"1\" class=\"dataframe\">\n",
       "  <thead>\n",
       "    <tr style=\"text-align: right;\">\n",
       "      <th></th>\n",
       "      <th>cases.0.submitter_id</th>\n",
       "      <th>file_name</th>\n",
       "      <th>id</th>\n",
       "    </tr>\n",
       "  </thead>\n",
       "  <tbody>\n",
       "    <tr>\n",
       "      <th>count</th>\n",
       "      <td>523</td>\n",
       "      <td>523</td>\n",
       "      <td>523</td>\n",
       "    </tr>\n",
       "    <tr>\n",
       "      <th>unique</th>\n",
       "      <td>478</td>\n",
       "      <td>523</td>\n",
       "      <td>523</td>\n",
       "    </tr>\n",
       "    <tr>\n",
       "      <th>top</th>\n",
       "      <td>TCGA-43-6771</td>\n",
       "      <td>7df584d3-5b11-4987-8227-6d809e8305af.mirbase21...</td>\n",
       "      <td>07fa22d0-99b1-4364-9b93-d937005a2416</td>\n",
       "    </tr>\n",
       "    <tr>\n",
       "      <th>freq</th>\n",
       "      <td>2</td>\n",
       "      <td>1</td>\n",
       "      <td>1</td>\n",
       "    </tr>\n",
       "  </tbody>\n",
       "</table>\n",
       "</div>"
      ],
      "text/plain": [
       "       cases.0.submitter_id  \\\n",
       "count                   523   \n",
       "unique                  478   \n",
       "top            TCGA-43-6771   \n",
       "freq                      2   \n",
       "\n",
       "                                                file_name  \\\n",
       "count                                                 523   \n",
       "unique                                                523   \n",
       "top     7df584d3-5b11-4987-8227-6d809e8305af.mirbase21...   \n",
       "freq                                                    1   \n",
       "\n",
       "                                          id  \n",
       "count                                    523  \n",
       "unique                                   523  \n",
       "top     07fa22d0-99b1-4364-9b93-d937005a2416  \n",
       "freq                                       1  "
      ]
     },
     "execution_count": 17,
     "metadata": {},
     "output_type": "execute_result"
    }
   ],
   "source": [
    "mirna_files_df = get_mirna_files()\n",
    "mirna_files_df.describe()"
   ]
  },
  {
   "cell_type": "code",
   "execution_count": 18,
   "id": "74b3b85c",
   "metadata": {},
   "outputs": [],
   "source": [
    "mirna_fname = download_mirna_files(mirna_files_df, data_directory)\n",
    "#mirna_fname = \"gdc_download_20211114_175949.738652.tar.gz\""
   ]
  },
  {
   "cell_type": "code",
   "execution_count": 19,
   "id": "e84d47d0",
   "metadata": {},
   "outputs": [
    {
     "name": "stdout",
     "output_type": "stream",
     "text": [
      "All columns: 1881\n",
      "Only non-constant columns: 1579\n"
     ]
    }
   ],
   "source": [
    "miRNA_df_t = untar_and_merge_mirna_files(mirna_files_df, mirna_fname, data_directory)\n",
    "print(\"All columns:\", len(miRNA_df_t.columns))\n",
    "miRNA_df_t = remove_constant_columns(miRNA_df_t)\n",
    "print(\"Only non-constant columns:\", len(miRNA_df_t.columns))\n",
    "miRNA_df = miRNA_df_t.transpose()"
   ]
  },
  {
   "cell_type": "markdown",
   "id": "cc2a7e12",
   "metadata": {},
   "source": [
    "## Reconciling data from cBioPortal and gdc.cancer.gov"
   ]
  },
  {
   "cell_type": "code",
   "execution_count": 20,
   "id": "01595309",
   "metadata": {},
   "outputs": [],
   "source": [
    "RNAseq_patients = set(RNAseq_t.index)\n",
    "linearCNA_patients = set(linearCNA_t.index)\n",
    "methylation_hm450_patients = set(methylation_hm450_t.index)\n",
    "miRNA_patients = set(miRNA_df_t.index)\n",
    "all_sets = [RNAseq_patients, linearCNA_patients, methylation_hm450_patients, miRNA_patients]\n",
    "all_patients = functools.reduce(lambda x, y: x|y, all_sets, set())\n",
    "patients_on_all_datasets = functools.reduce(lambda x, y: x&y, all_sets, all_patients)"
   ]
  },
  {
   "cell_type": "code",
   "execution_count": 21,
   "id": "3f8eb16f",
   "metadata": {},
   "outputs": [
    {
     "data": {
      "text/plain": [
       "[501, 501, 370, 478]"
      ]
     },
     "execution_count": 21,
     "metadata": {},
     "output_type": "execute_result"
    }
   ],
   "source": [
    "list(map(len, all_sets))"
   ]
  },
  {
   "cell_type": "code",
   "execution_count": 22,
   "id": "650d3cbb",
   "metadata": {},
   "outputs": [
    {
     "data": {
      "text/plain": [
       "(504, 362)"
      ]
     },
     "execution_count": 22,
     "metadata": {},
     "output_type": "execute_result"
    }
   ],
   "source": [
    "len(all_patients), len(patients_on_all_datasets)"
   ]
  },
  {
   "cell_type": "code",
   "execution_count": null,
   "id": "948c9009",
   "metadata": {},
   "outputs": [],
   "source": []
  }
 ],
 "metadata": {
  "kernelspec": {
   "display_name": "lusc",
   "language": "python",
   "name": "lusc"
  },
  "language_info": {
   "codemirror_mode": {
    "name": "ipython",
    "version": 3
   },
   "file_extension": ".py",
   "mimetype": "text/x-python",
   "name": "python",
   "nbconvert_exporter": "python",
   "pygments_lexer": "ipython3",
   "version": "3.9.7"
  }
 },
 "nbformat": 4,
 "nbformat_minor": 5
}
