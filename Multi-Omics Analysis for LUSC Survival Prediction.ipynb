{
 "cells": [
  {
   "cell_type": "markdown",
   "id": "bdcd2154",
   "metadata": {},
   "source": [
    "# Multi-Omics Analysis for LUSC Survival Prediction\n",
    "\n",
    "Bla\n",
    "\n"
   ]
  },
  {
   "cell_type": "code",
   "execution_count": null,
   "id": "fd39eea1",
   "metadata": {},
   "outputs": [],
   "source": []
  },
  {
   "cell_type": "markdown",
   "id": "7beb697f",
   "metadata": {},
   "source": [
    "## Imports and helper functions"
   ]
  },
  {
   "cell_type": "code",
   "execution_count": 1,
   "id": "9d474f26",
   "metadata": {},
   "outputs": [],
   "source": [
    "import os,shutil,io,json,glob,tarfile,requests\n",
    "import functools\n",
    "\n",
    "import numpy as np\n",
    "import pandas as pd\n",
    "\n",
    "from pypgatk.cgenomes.cbioportal_downloader import CbioPortalDownloadService"
   ]
  },
  {
   "cell_type": "code",
   "execution_count": 2,
   "id": "2416c796",
   "metadata": {},
   "outputs": [],
   "source": [
    "def untar_study(study, output_directory, fmt=\".tar.gz\"):\n",
    "    file = tarfile.open(\n",
    "        os.path.join(\n",
    "            output_directory,\n",
    "            \"{study}{format}\".format(study=study, format=fmt)\n",
    "            )\n",
    "        )\n",
    "    file.extractall(output_directory)\n",
    "    file.close()"
   ]
  },
  {
   "cell_type": "code",
   "execution_count": 3,
   "id": "9b9b54e7",
   "metadata": {},
   "outputs": [],
   "source": [
    "def download_cbioportal_study(\n",
    "        config_file,\n",
    "        study,\n",
    "        output_directory = \"./data\",\n",
    "        list_studies = False,\n",
    "        multithreading = True,\n",
    "        **kwargs\n",
    "        ):\n",
    "    pipeline_arguments = {\n",
    "        CbioPortalDownloadService.CONFIG_OUTPUT_DIRECTORY: output_directory,\n",
    "        CbioPortalDownloadService.CONFIG_LIST_STUDIES: list_studies,\n",
    "        CbioPortalDownloadService.CONFIG_MULTITHREADING: multithreading,\n",
    "        **kwargs,\n",
    "    } \n",
    "    cbioportal_downloader_service = CbioPortalDownloadService(config_file, pipeline_arguments)\n",
    "    cbioportal_downloader_service.download_study(study)"
   ]
  },
  {
   "cell_type": "code",
   "execution_count": 4,
   "id": "d6d6c9e8",
   "metadata": {},
   "outputs": [],
   "source": [
    "def get_mirna_files(\n",
    "        project_id=\"TCGA-LUSC\",\n",
    "        maxfiles=10000\n",
    "        ):\n",
    "\n",
    "    cases_endpt = \"https://api.gdc.cancer.gov/files\"\n",
    "    data_endpt = \"https://api.gdc.cancer.gov/data\"\n",
    "\n",
    "    # Retrieve associated file names\n",
    "    filters = {\n",
    "        \"op\": \"and\",\n",
    "        \"content\":[\n",
    "            {\"op\": \"=\",\n",
    "            \"content\":{\n",
    "                \"field\": \"cases.project.project_id\",\n",
    "                \"value\": [\"TCGA-LUSC\"]\n",
    "                }\n",
    "            },\n",
    "            {\"op\": \"=\",\n",
    "            \"content\":{\n",
    "                \"field\": \"files.experimental_strategy\",\n",
    "                \"value\": [\"miRNA-Seq\"]\n",
    "                }\n",
    "            },\n",
    "            {\"op\": \"=\",\n",
    "            \"content\":{\n",
    "                \"field\": \"files.data_category\",\n",
    "                \"value\": [\"Transcriptome Profiling\"]\n",
    "                }\n",
    "            },\n",
    "            {\"op\": \"=\",\n",
    "            \"content\":{\n",
    "                \"field\": \"files.data_type\",\n",
    "                \"value\": [\"miRNA Expression Quantification\"]\n",
    "                }\n",
    "            }\n",
    "        ]\n",
    "    }\n",
    "\n",
    "    params = {\n",
    "        \"filters\": json.dumps(filters),\n",
    "        \"fields\": \",\".join([\"cases.submitter_id\",\"file_name\"]),\n",
    "        \"format\": \"TSV\",\n",
    "        \"size\": str(maxfiles)\n",
    "    }\n",
    "\n",
    "    response = requests.get(cases_endpt, params = params)\n",
    "    files_df = pd.read_csv(io.StringIO(response.text), sep=\"\\t\")\n",
    "    return files_df\n",
    "\n",
    "def download_mirna_files(\n",
    "        files_df,\n",
    "        output_directory = \"./data\",\n",
    "        project_id=\"TCGA-LUSC\",\n",
    "        maxfiles=10000\n",
    "        ):\n",
    "    \n",
    "    params = {\"ids\": files_df[\"id\"].tolist()}\n",
    "\n",
    "    response = requests.post(data_endpt,\n",
    "                            data = json.dumps(params),\n",
    "                            headers={\n",
    "                                \"Content-Type\": \"application/json\"\n",
    "                                })\n",
    "\n",
    "    response_head_cd = response.headers[\"Content-Disposition\"]\n",
    "    file_name = re.findall(\"filename=(.+)\", response_head_cd)[0]\n",
    "    with open(os.path.join(output_directory, file_name), \"wb\") as output_file:\n",
    "        output_file.write(response.content)\n",
    "    return file_name"
   ]
  },
  {
   "cell_type": "code",
   "execution_count": 5,
   "id": "360aed6c",
   "metadata": {},
   "outputs": [],
   "source": [
    "def untar_and_merge_mirna_files(\n",
    "        files_df,\n",
    "        file_name,\n",
    "        output_directory = \"./data\",\n",
    "        cleanup=True\n",
    "        ):\n",
    "    untar_study(file_name, output_directory, fmt=\"\")\n",
    "    \n",
    "    miRNA_IDs = set()\n",
    "    patient_dfs = {}\n",
    "    patient_folders = []\n",
    "    for i in range(len(files_df)):\n",
    "        patient_id = files_df[\"cases.0.submitter_id\"].iloc[i]\n",
    "        foldername = files_df[\"id\"].iloc[i]\n",
    "        patient_fname = os.listdir(os.path.join(output_directory, foldername))[0]\n",
    "        patient_df = pd.read_csv(os.path.join(output_directory, foldername, patient_fname), sep=\"\\t\")\n",
    "        \n",
    "        miRNA_IDs.update(patient_df[\"miRNA_ID\"].tolist())\n",
    "        patient_dfs[patient_id] = patient_df\n",
    "        patient_folders.append(foldername)\n",
    "    \n",
    "    miRNA_df = pd.DataFrame({\"patient_id\":[], **{k:[] for k in miRNA_IDs}}).set_index(\"patient_id\")\n",
    "    for patient_id in patient_dfs:\n",
    "        patient_df = patient_dfs[patient_id]\n",
    "        patient_id = \"{}-01\".format(patient_id) # This line is to match cBioPortal's format\n",
    "        transposed_patient_df = patient_df[[\"miRNA_ID\",\"reads_per_million_miRNA_mapped\"]].set_index(\"miRNA_ID\").transpose()\n",
    "        transposed_patient_df[\"patient_id\"] = [patient_id]\n",
    "        transposed_patient_df = transposed_patient_df.set_index(\"patient_id\")\n",
    "        miRNA_df.loc[patient_id,miRNA_df.columns] = transposed_patient_df[miRNA_df.columns].values.flatten()\n",
    "        \n",
    "    if cleanup:\n",
    "        for patient_folder in patient_folders:\n",
    "            shutil.rmtree(os.path.join(output_directory, patient_folder))\n",
    "    \n",
    "    return miRNA_df"
   ]
  },
  {
   "cell_type": "code",
   "execution_count": 6,
   "id": "415ce683",
   "metadata": {},
   "outputs": [],
   "source": [
    "def remove_constant_columns(df):\n",
    "    columns_to_remove = []\n",
    "    for idx, column in enumerate(df.columns):\n",
    "        try:\n",
    "            if (df[column].std() == 0).any():\n",
    "                columns_to_remove.append(column)\n",
    "        except KeyError:\n",
    "            columns_to_remove.append(column)\n",
    "    return df.drop(columns=columns_to_remove)"
   ]
  },
  {
   "cell_type": "markdown",
   "id": "034b47e0",
   "metadata": {},
   "source": [
    "## Data Acquisition and Pre-Processing"
   ]
  },
  {
   "cell_type": "markdown",
   "id": "ae9ea865",
   "metadata": {},
   "source": [
    "### Acquiring data from cBioPortal"
   ]
  },
  {
   "cell_type": "code",
   "execution_count": 7,
   "id": "19c30701",
   "metadata": {},
   "outputs": [],
   "source": [
    "cbioportal_config = \"./config/cbioportal_config.yaml\"\n",
    "data_directory = \"./data\"\n",
    "study_name = \"lusc_tcga\""
   ]
  },
  {
   "cell_type": "code",
   "execution_count": 8,
   "id": "f6c5d84c",
   "metadata": {},
   "outputs": [
    {
     "name": "stderr",
     "output_type": "stream",
     "text": [
      "DEBUG:pypgatk.toolbox.general:The following study 'lusc_tcga' has been downloaded. \n"
     ]
    }
   ],
   "source": [
    "download_cbioportal_study(cbioportal_config, study_name, data_directory)"
   ]
  },
  {
   "cell_type": "code",
   "execution_count": 9,
   "id": "3db1db53",
   "metadata": {},
   "outputs": [],
   "source": [
    "untar_study(study_name, data_directory, fmt=\".tar\")"
   ]
  },
  {
   "cell_type": "code",
   "execution_count": 10,
   "id": "3773af66",
   "metadata": {},
   "outputs": [
    {
     "data": {
      "text/plain": [
       "(20531, 24776, 16714)"
      ]
     },
     "execution_count": 10,
     "metadata": {},
     "output_type": "execute_result"
    }
   ],
   "source": [
    "RNAseq = pd.read_csv(os.path.join(data_directory, study_name, \"data_RNA_Seq_v2_expression_median.txt\"), comment=\"#\", sep=\"\\t\").set_index(\"Hugo_Symbol\").drop(columns=\"Entrez_Gene_Id\")\n",
    "linearCNA = pd.read_csv(os.path.join(data_directory, study_name, \"data_linear_CNA.txt\"), comment=\"#\", sep=\"\\t\").set_index(\"Hugo_Symbol\").drop(columns=\"Entrez_Gene_Id\")\n",
    "methylation_hm450 = pd.read_csv(os.path.join(data_directory, study_name, \"data_methylation_hm450.txt\"), comment=\"#\", sep=\"\\t\").set_index(\"Hugo_Symbol\").drop(columns=\"Entrez_Gene_Id\")\n",
    "\n",
    "len(RNAseq), len(linearCNA), len(methylation_hm450)"
   ]
  },
  {
   "cell_type": "markdown",
   "id": "905d8169",
   "metadata": {},
   "source": [
    "Remove any constant columns"
   ]
  },
  {
   "cell_type": "code",
   "execution_count": 11,
   "id": "18c2fcd9",
   "metadata": {},
   "outputs": [
    {
     "data": {
      "text/plain": [
       "(20242, 24776, 16714)"
      ]
     },
     "execution_count": 11,
     "metadata": {},
     "output_type": "execute_result"
    }
   ],
   "source": [
    "RNAseq_t = remove_constant_columns(RNAseq.transpose())\n",
    "RNAseq = RNAseq_t.transpose()\n",
    "linearCNA_t = remove_constant_columns(linearCNA.transpose())\n",
    "linearCNA = linearCNA_t.transpose()\n",
    "methylation_hm450_t = remove_constant_columns(methylation_hm450.transpose())\n",
    "methylation_hm450 = methylation_hm450_t.transpose()\n",
    "\n",
    "len(RNAseq), len(linearCNA), len(methylation_hm450)"
   ]
  },
  {
   "cell_type": "markdown",
   "id": "454dcc19",
   "metadata": {},
   "source": [
    "### miRNA data from gdc.cancer.gov"
   ]
  },
  {
   "cell_type": "code",
   "execution_count": 12,
   "id": "66b5151e",
   "metadata": {},
   "outputs": [
    {
     "data": {
      "text/html": [
       "<div>\n",
       "<style scoped>\n",
       "    .dataframe tbody tr th:only-of-type {\n",
       "        vertical-align: middle;\n",
       "    }\n",
       "\n",
       "    .dataframe tbody tr th {\n",
       "        vertical-align: top;\n",
       "    }\n",
       "\n",
       "    .dataframe thead th {\n",
       "        text-align: right;\n",
       "    }\n",
       "</style>\n",
       "<table border=\"1\" class=\"dataframe\">\n",
       "  <thead>\n",
       "    <tr style=\"text-align: right;\">\n",
       "      <th></th>\n",
       "      <th>cases.0.submitter_id</th>\n",
       "      <th>file_name</th>\n",
       "      <th>id</th>\n",
       "    </tr>\n",
       "  </thead>\n",
       "  <tbody>\n",
       "    <tr>\n",
       "      <th>count</th>\n",
       "      <td>523</td>\n",
       "      <td>523</td>\n",
       "      <td>523</td>\n",
       "    </tr>\n",
       "    <tr>\n",
       "      <th>unique</th>\n",
       "      <td>478</td>\n",
       "      <td>523</td>\n",
       "      <td>523</td>\n",
       "    </tr>\n",
       "    <tr>\n",
       "      <th>top</th>\n",
       "      <td>TCGA-43-6771</td>\n",
       "      <td>7df584d3-5b11-4987-8227-6d809e8305af.mirbase21...</td>\n",
       "      <td>07fa22d0-99b1-4364-9b93-d937005a2416</td>\n",
       "    </tr>\n",
       "    <tr>\n",
       "      <th>freq</th>\n",
       "      <td>2</td>\n",
       "      <td>1</td>\n",
       "      <td>1</td>\n",
       "    </tr>\n",
       "  </tbody>\n",
       "</table>\n",
       "</div>"
      ],
      "text/plain": [
       "       cases.0.submitter_id  \\\n",
       "count                   523   \n",
       "unique                  478   \n",
       "top            TCGA-43-6771   \n",
       "freq                      2   \n",
       "\n",
       "                                                file_name  \\\n",
       "count                                                 523   \n",
       "unique                                                523   \n",
       "top     7df584d3-5b11-4987-8227-6d809e8305af.mirbase21...   \n",
       "freq                                                    1   \n",
       "\n",
       "                                          id  \n",
       "count                                    523  \n",
       "unique                                   523  \n",
       "top     07fa22d0-99b1-4364-9b93-d937005a2416  \n",
       "freq                                       1  "
      ]
     },
     "execution_count": 12,
     "metadata": {},
     "output_type": "execute_result"
    }
   ],
   "source": [
    "mirna_files_df = get_mirna_files()\n",
    "mirna_files_df.describe()"
   ]
  },
  {
   "cell_type": "code",
   "execution_count": 13,
   "id": "74b3b85c",
   "metadata": {},
   "outputs": [],
   "source": [
    "#mirna_fname = download_mirna_files(mirna_files_df, data_directory)\n",
    "mirna_fname = \"gdc_download_20211114_175949.738652.tar.gz\""
   ]
  },
  {
   "cell_type": "code",
   "execution_count": 14,
   "id": "e84d47d0",
   "metadata": {},
   "outputs": [
    {
     "name": "stdout",
     "output_type": "stream",
     "text": [
      "All columns: 1881\n",
      "Only non-constant columns: 1579\n"
     ]
    }
   ],
   "source": [
    "miRNA_df_t = untar_and_merge_mirna_files(mirna_files_df, mirna_fname, data_directory)\n",
    "print(\"All columns:\", len(miRNA_df_t.columns))\n",
    "miRNA_df_t = remove_constant_columns(miRNA_df_t)\n",
    "print(\"Only non-constant columns:\", len(miRNA_df_t.columns))\n",
    "miRNA_df = miRNA_df_t.transpose()"
   ]
  },
  {
   "cell_type": "markdown",
   "id": "cc2a7e12",
   "metadata": {},
   "source": [
    "## Reconciling data from cBioPortal and gdc.cancer.gov"
   ]
  },
  {
   "cell_type": "code",
   "execution_count": 15,
   "id": "01595309",
   "metadata": {},
   "outputs": [],
   "source": [
    "RNAseq_patients = set(RNAseq_t.index)\n",
    "linearCNA_patients = set(linearCNA_t.index)\n",
    "methylation_hm450_patients = set(methylation_hm450_t.index)\n",
    "miRNA_patients = set(miRNA_df_t.index)\n",
    "all_sets = [RNAseq_patients, linearCNA_patients, methylation_hm450_patients, miRNA_patients]\n",
    "all_patients = functools.reduce(lambda x, y: x|y, all_sets, set())\n",
    "patients_on_all_datasets = functools.reduce(lambda x, y: x&y, all_sets, all_patients)"
   ]
  },
  {
   "cell_type": "code",
   "execution_count": 17,
   "id": "3f8eb16f",
   "metadata": {},
   "outputs": [
    {
     "data": {
      "text/plain": [
       "[501, 501, 370, 478]"
      ]
     },
     "execution_count": 17,
     "metadata": {},
     "output_type": "execute_result"
    }
   ],
   "source": [
    "list(map(len, all_sets))"
   ]
  },
  {
   "cell_type": "code",
   "execution_count": 16,
   "id": "650d3cbb",
   "metadata": {},
   "outputs": [
    {
     "data": {
      "text/plain": [
       "(504, 362)"
      ]
     },
     "execution_count": 16,
     "metadata": {},
     "output_type": "execute_result"
    }
   ],
   "source": [
    "len(all_patients), len(patients_on_all_datasets)"
   ]
  },
  {
   "cell_type": "code",
   "execution_count": null,
   "id": "948c9009",
   "metadata": {},
   "outputs": [],
   "source": []
  }
 ],
 "metadata": {
  "kernelspec": {
   "display_name": "lusc",
   "language": "python",
   "name": "lusc"
  },
  "language_info": {
   "codemirror_mode": {
    "name": "ipython",
    "version": 3
   },
   "file_extension": ".py",
   "mimetype": "text/x-python",
   "name": "python",
   "nbconvert_exporter": "python",
   "pygments_lexer": "ipython3",
   "version": "3.9.7"
  }
 },
 "nbformat": 4,
 "nbformat_minor": 5
}
